{
 "cells": [
  {
   "cell_type": "markdown",
   "id": "7dbc7c8d-b090-4c57-90c1-c506cf0364aa",
   "metadata": {},
   "source": [
    "## The purpose of this file\n",
    "Solve the system of nonlinear equations to estimate nodes' activity level $\\boldsymbol{\\hat{a}}$.\n",
    "$$\n",
    "H_i(\\boldsymbol{\\hat{a}})\\equiv\\sum_{j:j\\neq i}\\frac{m_{ij}^o-\\tau \\hat{a_i}\\hat{a_j}}{1-\\hat{a_i}\\hat{a_j}}=0, \\forall\\,i=1,...,N\n",
    "$$"
   ]
  },
  {
   "cell_type": "code",
   "execution_count": 1,
   "id": "f34c0030-68e2-41f4-9344-edf2eeb2c9e4",
   "metadata": {},
   "outputs": [],
   "source": [
    "import sys\n",
    "sys.path.append('../')\n",
    "import numpy as np\n",
    "import networkx as nx\n",
    "import pandas as pd\n",
    "import toolbox as tb\n",
    "from scipy import optimize\n",
    "%matplotlib inline"
   ]
  },
  {
   "cell_type": "code",
   "execution_count": 2,
   "id": "8be81345-3ec2-4fb5-b071-67a16fa73302",
   "metadata": {},
   "outputs": [],
   "source": [
    "tag = \"universitylife\"\n",
    "hashtag = \"universitylife\"\n",
    "timespan = \"22-25\"\n",
    "tau = 188\n",
    "G = nx.read_graphml(f'../data/graph_data/{tag}/modified/{hashtag}_{timespan}_{tau}_mdaam.graphml')"
   ]
  },
  {
   "cell_type": "code",
   "execution_count": 3,
   "id": "b8538274-2aa1-4533-ba10-c748dcda53ce",
   "metadata": {},
   "outputs": [
    {
     "data": {
      "text/plain": [
       "(14316, 14316)"
      ]
     },
     "execution_count": 3,
     "metadata": {},
     "output_type": "execute_result"
    }
   ],
   "source": [
    "aam = nx.to_numpy_array(G)\n",
    "n = len(aam)\n",
    "aam.shape"
   ]
  },
  {
   "cell_type": "code",
   "execution_count": 4,
   "id": "673a8e22-a3c6-4bc6-808a-2a489649bd11",
   "metadata": {},
   "outputs": [],
   "source": [
    "def h(a):\n",
    "\n",
    "    a = np.array(a)\n",
    "    \n",
    "    monomials = (aam - tau*(a.reshape(-1,1)@a.reshape(1,-1))) / (np.ones((n,n)) - (a.reshape(-1,1)@a.reshape(1,-1)))\n",
    "    diag_ = np.diag_indices(n)\n",
    "    monomials[diag_] = 0\n",
    "    \n",
    "    poly = monomials.sum(axis=1)\n",
    "    return poly"
   ]
  },
  {
   "cell_type": "code",
   "execution_count": 5,
   "id": "54e6b2bd-590f-4b9b-b11d-333bd0542029",
   "metadata": {},
   "outputs": [],
   "source": [
    "# Initial value is given by a config model\n",
    "a_init = tb.initial_value(aam, tau)\n",
    "#aam_mean = (aam/tau).mean(axis=1)"
   ]
  },
  {
   "cell_type": "code",
   "execution_count": 6,
   "id": "14883a21-d0ac-4a73-a6bf-be7c81bf4748",
   "metadata": {},
   "outputs": [
    {
     "name": "stdout",
     "output_type": "stream",
     "text": [
      "CPU times: total: 4min 24s\n",
      "Wall time: 5min 16s\n"
     ]
    }
   ],
   "source": [
    "%%time\n",
    "krylov_ai = optimize.root(h, a_init, method = \"krylov\")"
   ]
  },
  {
   "cell_type": "code",
   "execution_count": null,
   "id": "0b37e17f-e422-4cb8-a7e8-521b803be42b",
   "metadata": {},
   "outputs": [],
   "source": [
    "#%%time\n",
    "#arbitrary = np.array([0.001 for _ in range(n)])\n",
    "#krylov_m = optimize.root(h, aam_mean, method = \"krylov\")\n",
    "#krylov_m = optimize.root(h, arbitrary, method = \"krylov\")"
   ]
  },
  {
   "cell_type": "code",
   "execution_count": null,
   "id": "7a89f9ab-e2af-4e3e-bf4b-a5eb5dbe5ab9",
   "metadata": {},
   "outputs": [],
   "source": [
    "#%%time\n",
    "#broyden1_ai = optimize.root(h, a_init, method = \"broyden1\")"
   ]
  },
  {
   "cell_type": "code",
   "execution_count": 7,
   "id": "63bd3e13-21a1-4952-b1a8-b5addbdbbded",
   "metadata": {},
   "outputs": [
    {
     "name": "stdout",
     "output_type": "stream",
     "text": [
      "Newton-Krylov 法\n",
      "success? : True\n",
      "estimate : [0.00153469 0.00153469 0.01333205 ... 0.00056548 0.00056548 0.00056548]\n",
      "missing value : 0\n",
      "min : 8.078074499549526e-05\n",
      "max : 1.2575528485814027\n",
      "======================================\n",
      "maximum connection Prob u(a_i,a_j):0.8211938275397757\n",
      "index of maximum value : (34, 125)\n",
      "\n",
      "\n"
     ]
    }
   ],
   "source": [
    "tb.show_opt_result(krylov_ai, 'Newton-Krylov 法')\n",
    "print()\n",
    "#tb.show_opt_result(krylov_m, 'Newton-Krylov 法（初期値変更）')\n",
    "print()\n",
    "#tb.show_opt_result(broyden1_ai, 'good Broyden 法')"
   ]
  },
  {
   "cell_type": "code",
   "execution_count": null,
   "id": "90d713c1-bd35-47e3-8b15-9de03c7bd98e",
   "metadata": {},
   "outputs": [],
   "source": [
    "#fname1 = f\"../data/figure/estimates/estimates_{tag}_{timespan}_{tau}_scatter.pdf\"\n",
    "#b.plot_a_hat(krylov_ai, broyden1_ai, alpha=1, sep=False, fname=fname1)"
   ]
  },
  {
   "cell_type": "code",
   "execution_count": null,
   "id": "ade93997-127c-473b-b917-3b7573825fa0",
   "metadata": {},
   "outputs": [],
   "source": [
    "#fname2 = f\"../data/figure/estimates/estimates_{tag}_{timespan}_{tau}.pdf\"\n",
    "#tb.plot_a_hat(krylov_ai, broyden1_ai, sep=True, fname=fname2)"
   ]
  },
  {
   "cell_type": "code",
   "execution_count": null,
   "id": "26442415-da1b-45d8-8141-a5f28c89d58c",
   "metadata": {},
   "outputs": [],
   "source": [
    "# for different initial guess\n",
    "#fname3 = f\"../data/figure/estimates/estimates_{tag}_{timespan}_{tau}_init.pdf\"\n",
    "#tb.plot_a_hat_match(krylov_ai, krylov_m, \"Configuration model\", \"0.001\", fname=fname3)"
   ]
  },
  {
   "cell_type": "code",
   "execution_count": null,
   "id": "fdddc684-012c-4e38-a1f5-20c8e4ee7b49",
   "metadata": {},
   "outputs": [],
   "source": []
  },
  {
   "cell_type": "code",
   "execution_count": 8,
   "id": "2c19772c-37bf-45b5-a7b1-f03b8eb03fa9",
   "metadata": {},
   "outputs": [
    {
     "name": "stdout",
     "output_type": "stream",
     "text": [
      "../data/ML_estimate/universitylife/22-25_188_krylov\n"
     ]
    }
   ],
   "source": [
    "fn_krylov = f'../data/ML_estimate/{tag}/{timespan}_{tau}_krylov'\n",
    "#fn_broyden = f'../data/ML_estimate/{tag}/{timespan}_{tau}_broyden1'\n",
    "#fn_init = f'../data/ML_estimate/{tag}/{timespan}_{tau}_init'\n",
    "print(fn_krylov)\n",
    "#print(fn_broyden)\n",
    "#print(fn_init)\n",
    "tb.save_opt_result(krylov_ai, fn_krylov)\n",
    "#tb.save_opt_result(broyden1_ai, fn_broyden)\n",
    "#tb.save_opt_result(krylov_m, fn_init)"
   ]
  }
 ],
 "metadata": {
  "kernelspec": {
   "display_name": "Python 3 (ipykernel)",
   "language": "python",
   "name": "python3"
  },
  "language_info": {
   "codemirror_mode": {
    "name": "ipython",
    "version": 3
   },
   "file_extension": ".py",
   "mimetype": "text/x-python",
   "name": "python",
   "nbconvert_exporter": "python",
   "pygments_lexer": "ipython3",
   "version": "3.10.0"
  },
  "vscode": {
   "interpreter": {
    "hash": "dda1c080d881ff594d995f106008b7b4867f02a791aada0a67430868a128f4a2"
   }
  }
 },
 "nbformat": 4,
 "nbformat_minor": 5
}

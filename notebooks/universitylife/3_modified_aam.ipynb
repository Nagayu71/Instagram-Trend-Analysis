{
 "cells": [
  {
   "cell_type": "markdown",
   "id": "c698c767-80f8-4a61-aca7-993b02d54d11",
   "metadata": {},
   "source": [
    "## The purpose of this file\n",
    "**Remove search tag** and more node, if necessary, from the original aam to make optimization feasible.<br>\n",
    "Make an **modified aggregate adjacency matrix** and save it."
   ]
  },
  {
   "cell_type": "code",
   "execution_count": null,
   "id": "f34c0030-68e2-41f4-9344-edf2eeb2c9e4",
   "metadata": {},
   "outputs": [],
   "source": [
    "import sys\n",
    "sys.path.append('../')\n",
    "import powerlaw\n",
    "import networkx as nx\n",
    "import toolbox as tb\n",
    "%matplotlib inline"
   ]
  },
  {
   "cell_type": "code",
   "execution_count": null,
   "id": "0a4eef77-0c79-4791-9937-c75eebff9c23",
   "metadata": {},
   "outputs": [],
   "source": [
    "tag = \"universitylife\"\n",
    "hashtag = \"universitylife\" # This variable is necessary for data processing in the module 'toolbox'.\n",
    "timespan = \"21-23\"\n",
    "tau = 66\n",
    "G = nx.read_graphml(f'../data/graph_data/{tag}/original/{hashtag}_{timespan}_{tau}_aam.graphml')"
   ]
  },
  {
   "cell_type": "code",
   "execution_count": null,
   "id": "5a16320d-7d56-4ed9-a443-ae294536c19a",
   "metadata": {},
   "outputs": [],
   "source": [
    "ag = tb.AggregateNetwork(G, tau, hashtag)"
   ]
  },
  {
   "cell_type": "code",
   "execution_count": null,
   "id": "90ac1ae0-9c82-4d55-8e22-e0b7be2ff7a8",
   "metadata": {},
   "outputs": [],
   "source": [
    "ag.tau, ag.searchtag, ag.G.number_of_nodes()"
   ]
  },
  {
   "cell_type": "code",
   "execution_count": null,
   "id": "4d12a8df-804c-425f-9a0f-990aa02657db",
   "metadata": {},
   "outputs": [],
   "source": [
    "# Check hubs\n",
    "ag.check_degree()"
   ]
  },
  {
   "cell_type": "code",
   "execution_count": null,
   "id": "0ed36e3f-0bf0-4868-b0e1-20e207ef42e8",
   "metadata": {},
   "outputs": [],
   "source": [
    "ag.remove_searchtag()"
   ]
  },
  {
   "cell_type": "code",
   "execution_count": null,
   "id": "18f80c78-4a22-4c89-bbce-9bfa8727476e",
   "metadata": {},
   "outputs": [],
   "source": [
    "# Check hubs\n",
    "ag.check_degree()"
   ]
  },
  {
   "cell_type": "code",
   "execution_count": null,
   "id": "0aa87a0b-7da6-4f58-a940-29d6f5b5a2ba",
   "metadata": {},
   "outputs": [],
   "source": [
    "ag.plot_dd(20)"
   ]
  },
  {
   "cell_type": "code",
   "execution_count": null,
   "id": "4cc00cbf-d50e-4384-9aa1-d93f96ee441d",
   "metadata": {},
   "outputs": [],
   "source": [
    "tb.fit_power_law(G)"
   ]
  },
  {
   "cell_type": "code",
   "execution_count": null,
   "id": "ad3b306d-c2aa-45f6-83f2-d9c31597aced",
   "metadata": {},
   "outputs": [],
   "source": [
    "tb.compare_distribution(G,\"power_law\", \"exponential\")"
   ]
  },
  {
   "cell_type": "code",
   "execution_count": null,
   "id": "128c478b-7da9-4104-b3e6-9bcb79ac1825",
   "metadata": {},
   "outputs": [],
   "source": [
    "tb.compare_distribution(G,\"power_law\", \"lognormal\")"
   ]
  },
  {
   "cell_type": "code",
   "execution_count": null,
   "id": "6e329a97-7413-4a92-b3af-b0aa4a3db161",
   "metadata": {},
   "outputs": [],
   "source": [
    "# Save figure for future use\n",
    "fname1 = f\"../data/figure/degree_distribution/pdfccdf1_{tag}_{timespan}_{tau}.pdf\"\n",
    "fname2 = f\"../data/figure/degree_distribution/pdfccdf2_{tag}_{timespan}_{tau}.pdf\"\n",
    "print(fname1)\n",
    "print(fname2)"
   ]
  },
  {
   "cell_type": "code",
   "execution_count": null,
   "id": "343a8826-0c5f-4545-8cac-c0ee22b4456c",
   "metadata": {},
   "outputs": [],
   "source": [
    "tb.plot_pdf_ccdf(G, Pcolor=\"#FF7A72\", Ccolor=\"#6AC4BA\", fname=fname1)"
   ]
  },
  {
   "cell_type": "code",
   "execution_count": null,
   "id": "cb84c7b8-923c-4e9b-a51a-57950f3aa93e",
   "metadata": {},
   "outputs": [],
   "source": [
    "tb.plot_pdf_ccdf(G, sep=True, Pcolor=\"#FF7A72\", Ccolor=\"#6AC4BA\", fname=fname2)"
   ]
  },
  {
   "cell_type": "code",
   "execution_count": null,
   "id": "f59cec7a-b69f-415e-80e5-78a34bb6453c",
   "metadata": {},
   "outputs": [],
   "source": [
    "# Save modified aam for statistical test\n",
    "nx.write_graphml(ag.G, f'../data/graph_data/{tag}/modified/{hashtag}_{timespan}_{tau}_mdaam.graphml', encoding='utf-8')"
   ]
  }
 ],
 "metadata": {
  "kernelspec": {
   "display_name": "Python 3 (ipykernel)",
   "language": "python",
   "name": "python3"
  },
  "language_info": {
   "codemirror_mode": {
    "name": "ipython",
    "version": 3
   },
   "file_extension": ".py",
   "mimetype": "text/x-python",
   "name": "python",
   "nbconvert_exporter": "python",
   "pygments_lexer": "ipython3",
   "version": "3.10.0"
  },
  "vscode": {
   "interpreter": {
    "hash": "dda1c080d881ff594d995f106008b7b4867f02a791aada0a67430868a128f4a2"
   }
  }
 },
 "nbformat": 4,
 "nbformat_minor": 5
}

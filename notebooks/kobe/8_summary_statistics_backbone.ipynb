{
 "cells": [
  {
   "cell_type": "markdown",
   "id": "c530ceb4-cc70-4556-8641-f4d690ce1ce5",
   "metadata": {},
   "source": [
    "## The purpose of this file\n",
    "Investigate the basic feature of backbone."
   ]
  },
  {
   "cell_type": "code",
   "execution_count": 1,
   "id": "3504b359-7d1b-41b1-8e97-cf64fc063b6b",
   "metadata": {},
   "outputs": [],
   "source": [
    "import sys\n",
    "sys.path.append('../')\n",
    "import toolbox as tb\n",
    "import pandas as pd\n",
    "import graph_tool.all as gt"
   ]
  },
  {
   "cell_type": "code",
   "execution_count": 2,
   "id": "a0ed8cca-f810-4db9-946b-e26f3d8bddf2",
   "metadata": {},
   "outputs": [],
   "source": [
    "tag = \"kobe\"\n",
    "hashtag = \"神戸\"\n",
    "timespan = \"23-23\"\n",
    "tau = 43\n",
    "SL = \"B0001\"\n",
    "G1 = gt.load_graph(f'../data/graph_data/{tag}/backbone/{hashtag}_{timespan}_{tau}_backbone_{SL}.graphml')\n",
    "g1 = gt.load_graph(f'../data/graph_data/{tag}/modified/{hashtag}_{timespan}_{tau}_mdaam.graphml')"
   ]
  },
  {
   "cell_type": "markdown",
   "id": "b047fbe4-be64-4cce-abfb-72dcf008752d",
   "metadata": {},
   "source": [
    "Compute $N,L,<k>,<C>$ and $Density$ of backbone."
   ]
  },
  {
   "cell_type": "code",
   "execution_count": 3,
   "id": "a3f672c6-a720-4b9b-bb9c-5991edf92c0c",
   "metadata": {},
   "outputs": [],
   "source": [
    "ind = ['time', 'hashtag', 'N', 'L', 'ave_deg', 'C', 'Density']\n",
    "tab = pd.DataFrame(index=ind)"
   ]
  },
  {
   "cell_type": "code",
   "execution_count": 4,
   "id": "019aa8ee-be3a-4de8-917f-0b31338f6a21",
   "metadata": {},
   "outputs": [
    {
     "name": "stdout",
     "output_type": "stream",
     "text": [
      "Clustering Coefficient, Density : ((0.8647537304052719, 0.0056516336896931495), 0.0016987890352344489)\n",
      "Clustering Coefficient, Density : ((0.12093286297333626, 0.029988523643130097), 0.0016712229644978464)\n"
     ]
    },
    {
     "data": {
      "text/html": [
       "<div>\n",
       "<style scoped>\n",
       "    .dataframe tbody tr th:only-of-type {\n",
       "        vertical-align: middle;\n",
       "    }\n",
       "\n",
       "    .dataframe tbody tr th {\n",
       "        vertical-align: top;\n",
       "    }\n",
       "\n",
       "    .dataframe thead th {\n",
       "        text-align: right;\n",
       "    }\n",
       "</style>\n",
       "<table border=\"1\" class=\"dataframe\">\n",
       "  <thead>\n",
       "    <tr style=\"text-align: right;\">\n",
       "      <th></th>\n",
       "      <th>time</th>\n",
       "      <th>hashtag</th>\n",
       "      <th>N</th>\n",
       "      <th>L</th>\n",
       "      <th>ave_deg</th>\n",
       "      <th>C</th>\n",
       "      <th>Density</th>\n",
       "    </tr>\n",
       "  </thead>\n",
       "  <tbody>\n",
       "    <tr>\n",
       "      <th>0</th>\n",
       "      <td>23-23_43</td>\n",
       "      <td>神戸</td>\n",
       "      <td>2784</td>\n",
       "      <td>6581</td>\n",
       "      <td>4.72773</td>\n",
       "      <td>0.864754</td>\n",
       "      <td>0.001699</td>\n",
       "    </tr>\n",
       "    <tr>\n",
       "      <th>1</th>\n",
       "      <td>23-23_43_ori</td>\n",
       "      <td>神戸</td>\n",
       "      <td>20122</td>\n",
       "      <td>338318</td>\n",
       "      <td>33.626677</td>\n",
       "      <td>0.120933</td>\n",
       "      <td>0.001671</td>\n",
       "    </tr>\n",
       "  </tbody>\n",
       "</table>\n",
       "</div>"
      ],
      "text/plain": [
       "           time hashtag      N       L    ave_deg         C   Density\n",
       "0      23-23_43      神戸   2784    6581    4.72773  0.864754  0.001699\n",
       "1  23-23_43_ori      神戸  20122  338318  33.626677  0.120933  0.001671"
      ]
     },
     "execution_count": 4,
     "metadata": {},
     "output_type": "execute_result"
    }
   ],
   "source": [
    "N, L = G1.num_vertices(), G1.num_edges()\n",
    "ave_deg = 2*L / N\n",
    "density = ave_deg / (N - 1)\n",
    "cc = gt.global_clustering(G1)\n",
    "print(f'Clustering Coefficient, Density : ({cc}, {density})')\n",
    "\n",
    "n, l = g1.num_vertices(), g1.num_edges()\n",
    "ave_d = 2*l / n\n",
    "dens = ave_d / (n - 1)\n",
    "c = gt.global_clustering(g1)\n",
    "print(f'Clustering Coefficient, Density : ({c}, {dens})')\n",
    "\n",
    "r1 = [f'{timespan}_{tau}', hashtag, N, L, ave_deg, cc[0], density]\n",
    "r2 = [f'{timespan}_{tau}_ori', hashtag, n, l, ave_d, c[0], dens]\n",
    "tab[0] = r1\n",
    "tab[1] = r2\n",
    "tab.T"
   ]
  },
  {
   "cell_type": "code",
   "execution_count": null,
   "id": "53a3e585-2738-45ef-87c0-0c94881a0081",
   "metadata": {},
   "outputs": [],
   "source": []
  },
  {
   "cell_type": "code",
   "execution_count": 5,
   "id": "24d68dc3-1629-45b2-b4ed-04e8b318f55a",
   "metadata": {},
   "outputs": [],
   "source": [
    "timespan = \"23-23\"\n",
    "tau = 87\n",
    "G2 = gt.load_graph(f'../data/graph_data/{tag}/backbone/{hashtag}_{timespan}_{tau}_backbone_{SL}.graphml')\n",
    "g2 = gt.load_graph(f'../data/graph_data/{tag}/modified/{hashtag}_{timespan}_{tau}_mdaam.graphml')"
   ]
  },
  {
   "cell_type": "code",
   "execution_count": 6,
   "id": "62801775-b74f-4ec4-becd-73a4ab359f89",
   "metadata": {},
   "outputs": [
    {
     "name": "stdout",
     "output_type": "stream",
     "text": [
      "Clustering Coefficient, Density : ((0.8647537304052719, 0.0056516336896931495), 0.0017705266243984742)\n",
      "Clustering Coefficient, Density : ((0.12093286297333626, 0.029988523643130097), 0.0016462604798024448)\n"
     ]
    },
    {
     "data": {
      "text/html": [
       "<div>\n",
       "<style scoped>\n",
       "    .dataframe tbody tr th:only-of-type {\n",
       "        vertical-align: middle;\n",
       "    }\n",
       "\n",
       "    .dataframe tbody tr th {\n",
       "        vertical-align: top;\n",
       "    }\n",
       "\n",
       "    .dataframe thead th {\n",
       "        text-align: right;\n",
       "    }\n",
       "</style>\n",
       "<table border=\"1\" class=\"dataframe\">\n",
       "  <thead>\n",
       "    <tr style=\"text-align: right;\">\n",
       "      <th></th>\n",
       "      <th>time</th>\n",
       "      <th>hashtag</th>\n",
       "      <th>N</th>\n",
       "      <th>L</th>\n",
       "      <th>ave_deg</th>\n",
       "      <th>C</th>\n",
       "      <th>Density</th>\n",
       "    </tr>\n",
       "  </thead>\n",
       "  <tbody>\n",
       "    <tr>\n",
       "      <th>0</th>\n",
       "      <td>23-23_43</td>\n",
       "      <td>神戸</td>\n",
       "      <td>2784</td>\n",
       "      <td>6581</td>\n",
       "      <td>4.72773</td>\n",
       "      <td>0.864754</td>\n",
       "      <td>0.001699</td>\n",
       "    </tr>\n",
       "    <tr>\n",
       "      <th>1</th>\n",
       "      <td>23-23_43_ori</td>\n",
       "      <td>神戸</td>\n",
       "      <td>20122</td>\n",
       "      <td>338318</td>\n",
       "      <td>33.626677</td>\n",
       "      <td>0.120933</td>\n",
       "      <td>0.001671</td>\n",
       "    </tr>\n",
       "    <tr>\n",
       "      <th>2</th>\n",
       "      <td>23-23_87</td>\n",
       "      <td>神戸</td>\n",
       "      <td>3210</td>\n",
       "      <td>9119</td>\n",
       "      <td>5.68162</td>\n",
       "      <td>0.864754</td>\n",
       "      <td>0.001771</td>\n",
       "    </tr>\n",
       "    <tr>\n",
       "      <th>3</th>\n",
       "      <td>23-23_87_ori</td>\n",
       "      <td>神戸</td>\n",
       "      <td>20410</td>\n",
       "      <td>342873</td>\n",
       "      <td>33.59853</td>\n",
       "      <td>0.120933</td>\n",
       "      <td>0.001646</td>\n",
       "    </tr>\n",
       "  </tbody>\n",
       "</table>\n",
       "</div>"
      ],
      "text/plain": [
       "           time hashtag      N       L    ave_deg         C   Density\n",
       "0      23-23_43      神戸   2784    6581    4.72773  0.864754  0.001699\n",
       "1  23-23_43_ori      神戸  20122  338318  33.626677  0.120933  0.001671\n",
       "2      23-23_87      神戸   3210    9119    5.68162  0.864754  0.001771\n",
       "3  23-23_87_ori      神戸  20410  342873   33.59853  0.120933  0.001646"
      ]
     },
     "execution_count": 6,
     "metadata": {},
     "output_type": "execute_result"
    }
   ],
   "source": [
    "N, L = G2.num_vertices(), G2.num_edges()\n",
    "ave_deg = 2*L / N\n",
    "density = ave_deg / (N - 1)\n",
    "cc = gt.global_clustering(G1)\n",
    "print(f'Clustering Coefficient, Density : ({cc}, {density})')\n",
    "\n",
    "n, l = g2.num_vertices(), g2.num_edges()\n",
    "ave_d = 2*l / n\n",
    "dens = ave_d / (n - 1)\n",
    "c = gt.global_clustering(g1)\n",
    "print(f'Clustering Coefficient, Density : ({c}, {dens})')\n",
    "\n",
    "r1 = [f'{timespan}_{tau}', hashtag, N, L, ave_deg, cc[0], density]\n",
    "r2 = [f'{timespan}_{tau}_ori', hashtag, n, l, ave_d, c[0], dens]\n",
    "tab[2] = r1\n",
    "tab[3] = r2\n",
    "tab = tab.T\n",
    "tab"
   ]
  },
  {
   "cell_type": "code",
   "execution_count": 7,
   "id": "7026d974-0a51-47b3-8397-0667eaddefe1",
   "metadata": {},
   "outputs": [
    {
     "name": "stdout",
     "output_type": "stream",
     "text": [
      "../data/table/kobe.pkl\n"
     ]
    }
   ],
   "source": [
    "fname = f'../data/table/{tag}.pkl'\n",
    "tab.to_pickle(fname)\n",
    "print(fname)"
   ]
  }
 ],
 "metadata": {
  "kernelspec": {
   "display_name": "Python 3 (ipykernel)",
   "language": "python",
   "name": "python3"
  },
  "language_info": {
   "codemirror_mode": {
    "name": "ipython",
    "version": 3
   },
   "file_extension": ".py",
   "mimetype": "text/x-python",
   "name": "python",
   "nbconvert_exporter": "python",
   "pygments_lexer": "ipython3",
   "version": "3.11.0"
  },
  "vscode": {
   "interpreter": {
    "hash": "dda1c080d881ff594d995f106008b7b4867f02a791aada0a67430868a128f4a2"
   }
  }
 },
 "nbformat": 4,
 "nbformat_minor": 5
}

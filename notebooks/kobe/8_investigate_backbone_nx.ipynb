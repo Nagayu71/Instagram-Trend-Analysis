{
 "cells": [
  {
   "cell_type": "markdown",
   "id": "c530ceb4-cc70-4556-8641-f4d690ce1ce5",
   "metadata": {},
   "source": [
    "## The purpose of this file\n",
    "Delve into the backbone of temporal network, or significant ties, and draw it in a rational way with Pyviz."
   ]
  },
  {
   "cell_type": "code",
   "execution_count": null,
   "id": "3504b359-7d1b-41b1-8e97-cf64fc063b6b",
   "metadata": {},
   "outputs": [],
   "source": [
    "import networkx as nx\n",
    "import matplotlib.pyplot as plt\n",
    "from community import community_louvain\n",
    "from pyvis.network import Network\n",
    "%matplotlib inline"
   ]
  },
  {
   "cell_type": "code",
   "execution_count": null,
   "id": "a0ed8cca-f810-4db9-946b-e26f3d8bddf2",
   "metadata": {},
   "outputs": [],
   "source": [
    "tag = \"campaign\"\n",
    "hashtag = \"キャンペーン\" \n",
    "timespan = \"21-22\"\n",
    "tau = 90\n",
    "SL1 = \"B0001\"\n",
    "SL2 = \"B001\"\n",
    "G1 = nx.read_graphml(f'../data/graph_data/{tag}/backbone/{hashtag}_{timespan}_{tau}_backbone_{SL1}.graphml')"
   ]
  },
  {
   "cell_type": "code",
   "execution_count": null,
   "id": "0063c937-a301-4212-b6b8-9ff55baa195b",
   "metadata": {},
   "outputs": [],
   "source": [
    "G1.number_of_nodes(), G1.number_of_edges()"
   ]
  },
  {
   "cell_type": "code",
   "execution_count": null,
   "id": "4c5c28e9-6352-4a80-bb0b-ae95947ddbab",
   "metadata": {},
   "outputs": [],
   "source": [
    "giant = max(nx.connected_components(G1), key=len)\n",
    "LS = G1.subgraph(giant)"
   ]
  },
  {
   "cell_type": "markdown",
   "id": "7086682f-91c4-44f8-a908-b618de0ceffb",
   "metadata": {},
   "source": [
    "## Community detection"
   ]
  },
  {
   "cell_type": "code",
   "execution_count": null,
   "id": "b246005b-31bf-482b-a289-2f40b2083362",
   "metadata": {},
   "outputs": [],
   "source": [
    "# Compute the best partition\n",
    "partition = community_louvain.best_partition(LS)"
   ]
  },
  {
   "cell_type": "code",
   "execution_count": null,
   "id": "2895cc1f-61d4-4134-acbc-472d9b1c6b3a",
   "metadata": {},
   "outputs": [],
   "source": [
    "# Set community number to node attribute\n",
    "nx.set_node_attributes(LS, partition, 'group')"
   ]
  },
  {
   "cell_type": "code",
   "execution_count": null,
   "id": "355c39b5-ad7b-4bfe-a923-8f1109064af4",
   "metadata": {},
   "outputs": [],
   "source": [
    "# draw the graph\n",
    "pos = nx.spring_layout(LS)\n",
    "# color the nodes according to their partition\n",
    "cmap = cm.get_cmap('viridis', max(partition.values()) + 1)\n",
    "nx.draw_networkx_nodes(LS, pos, partition.keys(), node_size=15, alpha=0.4,\n",
    "                       cmap=cmap, node_color=list(partition.values()))\n",
    "nx.draw_networkx_edges(LS, pos, width=0.3, edge_color='grey', alpha=0.5)\n",
    "limits=plt.axis('off')\n",
    "plt.show()"
   ]
  },
  {
   "cell_type": "code",
   "execution_count": null,
   "id": "603b9196-01db-4a32-adc8-26062124794d",
   "metadata": {},
   "outputs": [],
   "source": [
    "fname1 = f\"../data/figure/network/B0001community_{tag}_{timespan}_{tau}.html\"\n",
    "#fname2 = f\"../data/figure/network/B001community_{tag}_{timespan}_{tau}.html\"\n",
    "print(fname1)\n",
    "#print(fname2)\n",
    "net = Network(notebook=True, height='700px', width='1000px', bgcolor='#222222', font_color='white')\n",
    "net.from_nx(LS)\n",
    "net.show(fname1)"
   ]
  }
 ],
 "metadata": {
  "kernelspec": {
   "display_name": "Python 3 (ipykernel)",
   "language": "python",
   "name": "python3"
  },
  "language_info": {
   "codemirror_mode": {
    "name": "ipython",
    "version": 3
   },
   "file_extension": ".py",
   "mimetype": "text/x-python",
   "name": "python",
   "nbconvert_exporter": "python",
   "pygments_lexer": "ipython3",
   "version": "3.10.0"
  },
  "vscode": {
   "interpreter": {
    "hash": "dda1c080d881ff594d995f106008b7b4867f02a791aada0a67430868a128f4a2"
   }
  }
 },
 "nbformat": 4,
 "nbformat_minor": 5
}

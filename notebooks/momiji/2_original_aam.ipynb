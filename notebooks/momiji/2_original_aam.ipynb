{
 "cells": [
  {
   "cell_type": "markdown",
   "id": "05d4cac5-880c-4b89-b9b6-7087d103fc2a",
   "metadata": {},
   "source": [
    "## The purpose of this file\n",
    "Make an aggregate adjacency matrix and save it.\n",
    "> Be sure to add $\\tau$ (the number of snapshots you make) to the filename."
   ]
  },
  {
   "cell_type": "code",
   "execution_count": 1,
   "id": "f8ef35e2-d802-42f5-b576-bc11e33df6a5",
   "metadata": {},
   "outputs": [],
   "source": [
    "import sys\n",
    "sys.path.append('../')\n",
    "import powerlaw\n",
    "import pandas as pd\n",
    "import networkx as nx\n",
    "import toolbox as tb\n",
    "%matplotlib inline"
   ]
  },
  {
   "cell_type": "code",
   "execution_count": 2,
   "id": "561f98e1-50f7-4069-864d-2905a266d540",
   "metadata": {},
   "outputs": [],
   "source": [
    "tag = \"momiji\"\n",
    "hashtag = \"紅葉\"\n",
    "timespan = \"21-29\"\n",
    "file = f\"../data/datasets/{tag}/{tag}_{timespan}.pkl\"\n",
    "df = tb.get_dataframe(hashtag, file)"
   ]
  },
  {
   "cell_type": "code",
   "execution_count": 3,
   "id": "5202e1cd-953d-4f7b-a1e3-560bbbe9bd51",
   "metadata": {},
   "outputs": [],
   "source": [
    "start = \"2022-11-24T00:00+09:00\"\n",
    "end = \"2022-11-24T22:59+09:00\"\n",
    "timespan = \"24-24\"\n",
    "start = pd.to_datetime(start)\n",
    "end = pd.to_datetime(end)\n",
    "DF = df[(start <= df.index) & (df.index <= end)]"
   ]
  },
  {
   "cell_type": "markdown",
   "id": "976f4ba6-453c-42cf-8fe4-249ca0c88556",
   "metadata": {},
   "source": [
    "DF = df.copy()"
   ]
  },
  {
   "cell_type": "code",
   "execution_count": 4,
   "id": "9bc5acab-fd63-4ad1-81c9-30d2911f6185",
   "metadata": {},
   "outputs": [
    {
     "name": "stdout",
     "output_type": "stream",
     "text": [
      "tau = 75\n"
     ]
    }
   ],
   "source": [
    "tau, snapshots = tb.get_snapshots_closed_intervals(DF, 'minutes=15')\n",
    "#tau, snapshots = tb.get_snapshots_closed_intervals(DF, 'hours=1')\n",
    "print(f\"tau = {tau}\")"
   ]
  },
  {
   "cell_type": "code",
   "execution_count": 5,
   "id": "734b0d38-aac4-496b-b096-de11cae579b9",
   "metadata": {},
   "outputs": [
    {
     "name": "stdout",
     "output_type": "stream",
     "text": [
      "../data/graph_data/momiji/original/紅葉_22-22_75_aam\n"
     ]
    }
   ],
   "source": [
    "edgelst_of_snapshots = tb.get_edgelist_of_eachsnapshot(df,tau, snapshots)\n",
    "filename = f'../data/graph_data/{tag}/original/{hashtag}_{timespan}_{tau}_aam'\n",
    "print(filename)\n",
    "#G = tb.make_aggregate_adjacency_matrix(edgelst_of_snapshots, fname=filename)\n",
    "G = tb.make_aggregate_adjacency_matrix(edgelst_of_snapshots)"
   ]
  },
  {
   "cell_type": "code",
   "execution_count": 6,
   "id": "ba087890-f7e7-49a4-85a9-cd64861e60fb",
   "metadata": {},
   "outputs": [
    {
     "data": {
      "text/plain": [
       "19148"
      ]
     },
     "execution_count": 6,
     "metadata": {},
     "output_type": "execute_result"
    }
   ],
   "source": [
    "G.number_of_nodes()"
   ]
  },
  {
   "cell_type": "code",
   "execution_count": null,
   "id": "dec02cc2-d022-4505-835c-c9bb855edb76",
   "metadata": {},
   "outputs": [],
   "source": []
  },
  {
   "cell_type": "code",
   "execution_count": null,
   "id": "36d013b4-3cfe-4278-a827-87f586f65379",
   "metadata": {},
   "outputs": [],
   "source": [
    "tb.check_degree(G)"
   ]
  },
  {
   "cell_type": "code",
   "execution_count": null,
   "id": "b01c4209-2c60-41e8-8a77-9dce415b0fb9",
   "metadata": {},
   "outputs": [],
   "source": [
    "tb.plot_dd(G, 20)"
   ]
  },
  {
   "cell_type": "code",
   "execution_count": null,
   "id": "dd337aff-84d3-4ca7-aca2-12e17b7fdd61",
   "metadata": {},
   "outputs": [],
   "source": [
    "tb.fit_power_law(G)"
   ]
  },
  {
   "cell_type": "code",
   "execution_count": null,
   "id": "41b3f2b2-5867-42d3-9adf-9d8446e75f29",
   "metadata": {},
   "outputs": [],
   "source": [
    "tb.compare_distribution(G,\"power_law\", \"exponential\")"
   ]
  },
  {
   "cell_type": "code",
   "execution_count": null,
   "id": "0a111cd3-c366-4fa8-a797-57630a748c3e",
   "metadata": {},
   "outputs": [],
   "source": [
    "tb.compare_distribution(G,\"power_law\", \"lognormal\")"
   ]
  },
  {
   "cell_type": "code",
   "execution_count": null,
   "id": "80222bbe-976c-4bdf-b481-662349fcea0d",
   "metadata": {},
   "outputs": [],
   "source": [
    "tb.plot_pdf_ccdf(G, Pcolor=\"#FF7A72\", Ccolor=\"#6AC4BA\")"
   ]
  },
  {
   "cell_type": "markdown",
   "id": "ce0c6ae9-5984-484d-84f9-406ecfca117c",
   "metadata": {},
   "source": [
    "The following is for when the network created during the entire period is too large to draw the degree distribution (`3_modified_aam.ipynb`) due to lack of memory."
   ]
  },
  {
   "cell_type": "code",
   "execution_count": 7,
   "id": "d9295ea2-138d-4add-804d-878060a7d47a",
   "metadata": {},
   "outputs": [
    {
     "name": "stdout",
     "output_type": "stream",
     "text": [
      "Isolates after removal of the searchtag: \n",
      "['地蔵', '色づく秋', 'ohisamaプロジェクト', '益子', 'ロンドン', '四角い太陽', '桂', '全東京写真連盟の撮影会', '飯盛山香積寺', '小さな物語をあなたへ', '♡', '久留米市', '明王寺', 'だいおうまつ松ぼっくり', 'yugawara', '頼朝', '姪っ子とデート', '豪渓', 'dazz', 'こけすたぐらむ', 'ハナノキ', '修学院離宮', '楽しかったね', '中央住設', '香嵐渓🍁', 'осень', '出釈迦寺', '禅林寺永観堂', 'シャリンバイ', 'リトルカブ', '湯の山温泉', '霜月紅葉selection']\n",
      "These isolate nodes are to be removed.\n",
      "============================================\n",
      "The isolate nodes were successfully deleted.\n"
     ]
    }
   ],
   "source": [
    "#G.remove_node(hashtag)\n",
    "G.remove_nodes_from([hashtag, \"秋\"])\n",
    "print(f\"Isolates after removal of the searchtag: \\n{list(nx.isolates(G))}\")\n",
    "print(\"These isolate nodes are to be removed.\")\n",
    "G.remove_nodes_from(list(nx.isolates(G)))\n",
    "assert len(list(nx.isolates(G))) == 0, \"There is at least one isolate node left.\"\n",
    "print(\"============================================\")\n",
    "print(\"The isolate nodes were successfully deleted.\")"
   ]
  },
  {
   "cell_type": "code",
   "execution_count": 11,
   "id": "9914b66e-91c3-4938-b660-fb21fd29965f",
   "metadata": {},
   "outputs": [
    {
     "name": "stdout",
     "output_type": "stream",
     "text": [
      "singleton:[]\n"
     ]
    },
    {
     "data": {
      "text/html": [
       "<div>\n",
       "<style scoped>\n",
       "    .dataframe tbody tr th:only-of-type {\n",
       "        vertical-align: middle;\n",
       "    }\n",
       "\n",
       "    .dataframe tbody tr th {\n",
       "        vertical-align: top;\n",
       "    }\n",
       "\n",
       "    .dataframe thead th {\n",
       "        text-align: right;\n",
       "    }\n",
       "</style>\n",
       "<table border=\"1\" class=\"dataframe\">\n",
       "  <thead>\n",
       "    <tr style=\"text-align: right;\">\n",
       "      <th></th>\n",
       "      <th>degree</th>\n",
       "    </tr>\n",
       "  </thead>\n",
       "  <tbody>\n",
       "    <tr>\n",
       "      <th>もみじ</th>\n",
       "      <td>2871</td>\n",
       "    </tr>\n",
       "    <tr>\n",
       "      <th>紅葉スポット</th>\n",
       "      <td>2626</td>\n",
       "    </tr>\n",
       "    <tr>\n",
       "      <th>写真好きな人と繋がりたい</th>\n",
       "      <td>2614</td>\n",
       "    </tr>\n",
       "    <tr>\n",
       "      <th>紅葉狩り</th>\n",
       "      <td>2592</td>\n",
       "    </tr>\n",
       "    <tr>\n",
       "      <th>japan</th>\n",
       "      <td>2591</td>\n",
       "    </tr>\n",
       "    <tr>\n",
       "      <th>...</th>\n",
       "      <td>...</td>\n",
       "    </tr>\n",
       "    <tr>\n",
       "      <th>定光寺公園</th>\n",
       "      <td>1</td>\n",
       "    </tr>\n",
       "    <tr>\n",
       "      <th>もみじ狩り🍁</th>\n",
       "      <td>1</td>\n",
       "    </tr>\n",
       "    <tr>\n",
       "      <th>根香寺</th>\n",
       "      <td>1</td>\n",
       "    </tr>\n",
       "    <tr>\n",
       "      <th>小原四季桜まつり</th>\n",
       "      <td>1</td>\n",
       "    </tr>\n",
       "    <tr>\n",
       "      <th>にしん蕎麦</th>\n",
       "      <td>1</td>\n",
       "    </tr>\n",
       "  </tbody>\n",
       "</table>\n",
       "<p>19114 rows × 1 columns</p>\n",
       "</div>"
      ],
      "text/plain": [
       "              degree\n",
       "もみじ             2871\n",
       "紅葉スポット          2626\n",
       "写真好きな人と繋がりたい    2614\n",
       "紅葉狩り            2592\n",
       "japan           2591\n",
       "...              ...\n",
       "定光寺公園              1\n",
       "もみじ狩り🍁             1\n",
       "根香寺                1\n",
       "小原四季桜まつり           1\n",
       "にしん蕎麦              1\n",
       "\n",
       "[19114 rows x 1 columns]"
      ]
     },
     "execution_count": 11,
     "metadata": {},
     "output_type": "execute_result"
    }
   ],
   "source": [
    "tb.check_degree(G)"
   ]
  },
  {
   "cell_type": "code",
   "execution_count": null,
   "id": "e4c95675-ee35-4b7b-998d-bff133292ff2",
   "metadata": {},
   "outputs": [],
   "source": [
    "tb.fit_power_law(G)"
   ]
  },
  {
   "cell_type": "code",
   "execution_count": null,
   "id": "cc2b9809-76ba-4cfc-9146-e05809678ddb",
   "metadata": {},
   "outputs": [],
   "source": [
    "tb.compare_distribution(G,\"power_law\", \"exponential\")"
   ]
  },
  {
   "cell_type": "code",
   "execution_count": null,
   "id": "4e6a409c-545d-4fb8-8047-f0cfbc87af38",
   "metadata": {},
   "outputs": [],
   "source": [
    "tb.compare_distribution(G,\"power_law\", \"lognormal\")"
   ]
  },
  {
   "cell_type": "code",
   "execution_count": 8,
   "id": "100eaa9e-97ea-4bd8-b798-10a06a13d579",
   "metadata": {},
   "outputs": [
    {
     "name": "stdout",
     "output_type": "stream",
     "text": [
      "../data/figure/degree_distribution/pdfccdf1_momiji_22-22_75.pdf\n",
      "../data/figure/degree_distribution/pdfccdf2_momiji_22-22_75.pdf\n"
     ]
    }
   ],
   "source": [
    "# Save figure for future use\n",
    "fname1 = f\"../data/figure/degree_distribution/pdfccdf1_{tag}_{timespan}_{tau}.pdf\"\n",
    "fname2 = f\"../data/figure/degree_distribution/pdfccdf2_{tag}_{timespan}_{tau}.pdf\"\n",
    "print(fname1)\n",
    "print(fname2)"
   ]
  },
  {
   "cell_type": "code",
   "execution_count": 9,
   "id": "33dfd9f9-8834-4838-b4fe-bbf525da6ea6",
   "metadata": {},
   "outputs": [
    {
     "name": "stdout",
     "output_type": "stream",
     "text": [
      "Calculating best minimal value for power law fit\n",
      "------------------------------------------------\n",
      "the fitted parameter alpha: 2.3469576967535937, \n",
      "its standard error sigma: 0.02565284713513228, \n",
      "k_min: 42.0\n"
     ]
    },
    {
     "data": {
      "image/png": "[encoded data removed]",
      "text/plain": [
       "<Figure size 640x480 with 1 Axes>"
      ]
     },
     "metadata": {},
     "output_type": "display_data"
    }
   ],
   "source": [
    "tb.plot_pdf_ccdf(G, Pcolor=\"#FF7A72\", Ccolor=\"#6AC4BA\")\n",
    "#tb.plot_pdf_ccdf(G, Pcolor=\"#FF7A72\", Ccolor=\"#6AC4BA\", fname=fname1)"
   ]
  },
  {
   "cell_type": "code",
   "execution_count": null,
   "id": "e34c4556-08dd-4ab5-b836-357c984f7a2a",
   "metadata": {},
   "outputs": [],
   "source": [
    "tb.plot_pdf_ccdf(G, sep=True, Pcolor=\"#FF7A72\", Ccolor=\"#6AC4BA\")\n",
    "#tb.plot_pdf_ccdf(G, sep=True, Pcolor=\"#FF7A72\", Ccolor=\"#6AC4BA\", fname=fname2)"
   ]
  },
  {
   "cell_type": "code",
   "execution_count": 10,
   "id": "d2e51c48-4b08-448f-b21f-5bc5d31dcbd4",
   "metadata": {},
   "outputs": [],
   "source": [
    "# Save modified aam for statistical test\n",
    "nx.write_graphml(G, f'../data/graph_data/{tag}/modified/{hashtag}_{timespan}_{tau}_mdaam.graphml', encoding='utf-8')"
   ]
  }
 ],
 "metadata": {
  "kernelspec": {
   "display_name": "Python 3 (ipykernel)",
   "language": "python",
   "name": "python3"
  },
  "language_info": {
   "codemirror_mode": {
    "name": "ipython",
    "version": 3
   },
   "file_extension": ".py",
   "mimetype": "text/x-python",
   "name": "python",
   "nbconvert_exporter": "python",
   "pygments_lexer": "ipython3",
   "version": "3.10.0"
  },
  "vscode": {
   "interpreter": {
    "hash": "dda1c080d881ff594d995f106008b7b4867f02a791aada0a67430868a128f4a2"
   }
  }
 },
 "nbformat": 4,
 "nbformat_minor": 5
}

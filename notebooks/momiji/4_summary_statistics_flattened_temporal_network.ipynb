{
 "cells": [
  {
   "cell_type": "markdown",
   "id": "c698c767-80f8-4a61-aca7-993b02d54d11",
   "metadata": {},
   "source": [
    "## The purpose of this file\n",
    "Make summary statistics of flattened temporally aggregated network and save it.<br>The aggregate temporal network is made by projecting a bipartite graph of whole time span on hashtag graph.<br>**Note** that the very last time interval, in which the last interaction occured, is excluded.<br>The resultant network should be the same as the temporally aggregated network (**see section 2**) with all edge weight set to one.<br>The nodes to be removed should be determined in the **section 3**."
   ]
  },
  {
   "cell_type": "code",
   "execution_count": 1,
   "id": "f34c0030-68e2-41f4-9344-edf2eeb2c9e4",
   "metadata": {},
   "outputs": [],
   "source": [
    "import sys\n",
    "sys.path.append('../')\n",
    "import networkx as nx\n",
    "import toolbox as tb\n",
    "import pandas as pd"
   ]
  },
  {
   "cell_type": "code",
   "execution_count": 2,
   "id": "0a4eef77-0c79-4791-9937-c75eebff9c23",
   "metadata": {},
   "outputs": [],
   "source": [
    "tag = \"momiji\"\n",
    "hashtag = \"紅葉\"\n",
    "timespan = \"21-29\"\n",
    "file = f\"../data/datasets/{tag}/{tag}_{timespan}.pkl\"\n",
    "df = tb.get_dataframe(hashtag, file)"
   ]
  },
  {
   "cell_type": "code",
   "execution_count": 3,
   "id": "2e342c37-bb25-4ba5-840b-751ea7373c20",
   "metadata": {},
   "outputs": [],
   "source": [
    "start = \"2022-11-22T12:00+09:00\"\n",
    "end = \"2022-11-22T23:59+09:00\"\n",
    "timespan = \"22-22\"\n",
    "start = pd.to_datetime(start)\n",
    "end = pd.to_datetime(end)\n",
    "DF = df[(start <= df.index) & (df.index <= end)]"
   ]
  },
  {
   "cell_type": "code",
   "execution_count": 4,
   "id": "77bf3ae1-d6c2-483c-b08c-4f58ae8ce096",
   "metadata": {},
   "outputs": [],
   "source": [
    "tau, snapshots = tb.get_snapshots_closed_intervals(DF, delta='minutes=10')\n",
    "#tau, snapshots = tb.get_snapshots_closed_intervals(DF, 'hours=1')"
   ]
  },
  {
   "cell_type": "code",
   "execution_count": 5,
   "id": "1c16aedb-a3c2-421e-9a11-18a19d7fac43",
   "metadata": {},
   "outputs": [],
   "source": [
    "G = tb.get_flattened_temporally_aggregated_network(DF, snapshots)"
   ]
  },
  {
   "cell_type": "code",
   "execution_count": 6,
   "id": "b75d1830-2899-42e5-a505-0f4a1a906bdc",
   "metadata": {},
   "outputs": [
    {
     "name": "stdout",
     "output_type": "stream",
     "text": [
      "Isolates after removal of the searchtag: \n",
      "['冬がはじまるよ', '北海道大学', '霞間ケ渓', '熊本県阿蘇市赤水', '岐阜女子大学', 'スポーツスターｓ', '航空公園', '風車', '東京江戸たてもの園', '静寂の中で', '大宮氷川神社参道', '上田城跡公園', '清水坂公園', 'まだ真っ赤じゃなかった', 'いばらきガーデンオーチャードツーリズム']\n",
      "These isolate nodes are to be removed.\n",
      "============================================\n",
      "The isolate nodes were successfully deleted.\n"
     ]
    }
   ],
   "source": [
    "G.remove_node(hashtag)\n",
    "print(f\"Isolates after removal of the searchtag: \\n{list(nx.isolates(G))}\")\n",
    "print(\"These isolate nodes are to be removed.\")\n",
    "G.remove_nodes_from(list(nx.isolates(G)))\n",
    "assert len(list(nx.isolates(G))) == 0, \"There is at least one isolate node left.\"\n",
    "print(\"============================================\")\n",
    "print(\"The isolate nodes were successfully deleted.\")"
   ]
  },
  {
   "cell_type": "code",
   "execution_count": 7,
   "id": "2735ad9b-497b-4386-87cd-e0f91b7ae59b",
   "metadata": {},
   "outputs": [],
   "source": [
    "N = G.number_of_nodes()\n",
    "L = G.number_of_edges()\n",
    "braket_k = (2*G.number_of_edges()) / G.number_of_nodes()\n",
    "braket_C = nx.average_clustering(G)\n",
    "density = nx.density(G)"
   ]
  },
  {
   "cell_type": "code",
   "execution_count": 8,
   "id": "11724799-3a54-4cf0-8279-413126487872",
   "metadata": {},
   "outputs": [
    {
     "name": "stdout",
     "output_type": "stream",
     "text": [
      "../data/temporal_network_summary_statistics/momiji/ssftn_22-22_66.pkl\n"
     ]
    },
    {
     "data": {
      "text/html": [
       "<div>\n",
       "<style scoped>\n",
       "    .dataframe tbody tr th:only-of-type {\n",
       "        vertical-align: middle;\n",
       "    }\n",
       "\n",
       "    .dataframe tbody tr th {\n",
       "        vertical-align: top;\n",
       "    }\n",
       "\n",
       "    .dataframe thead th {\n",
       "        text-align: right;\n",
       "    }\n",
       "</style>\n",
       "<table border=\"1\" class=\"dataframe\">\n",
       "  <thead>\n",
       "    <tr style=\"text-align: right;\">\n",
       "      <th></th>\n",
       "      <th>$N$</th>\n",
       "      <th>$L$</th>\n",
       "      <th>&lt;k&gt;</th>\n",
       "      <th>&lt;C&gt;</th>\n",
       "      <th>$Density$</th>\n",
       "    </tr>\n",
       "  </thead>\n",
       "  <tbody>\n",
       "    <tr>\n",
       "      <th>紅葉</th>\n",
       "      <td>13710</td>\n",
       "      <td>226864</td>\n",
       "      <td>33.094675</td>\n",
       "      <td>0.884943</td>\n",
       "      <td>0.002414</td>\n",
       "    </tr>\n",
       "  </tbody>\n",
       "</table>\n",
       "</div>"
      ],
      "text/plain": [
       "      $N$     $L$        <k>       <C>  $Density$\n",
       "紅葉  13710  226864  33.094675  0.884943   0.002414"
      ]
     },
     "execution_count": 8,
     "metadata": {},
     "output_type": "execute_result"
    }
   ],
   "source": [
    "fname = f'../data/temporal_network_summary_statistics/{tag}/ssftn_{timespan}_{tau}.pkl'\n",
    "statistics = pd.DataFrame({r\"$N$\": N, r\"$L$\": L, r\"<k>\":braket_k, r\"<C>\":braket_C, r\"$Density$\": density}, index=[hashtag])\n",
    "statistics.to_pickle(fname)\n",
    "print(fname)\n",
    "statistics"
   ]
  }
 ],
 "metadata": {
  "kernelspec": {
   "display_name": "Python 3 (ipykernel)",
   "language": "python",
   "name": "python3"
  },
  "language_info": {
   "codemirror_mode": {
    "name": "ipython",
    "version": 3
   },
   "file_extension": ".py",
   "mimetype": "text/x-python",
   "name": "python",
   "nbconvert_exporter": "python",
   "pygments_lexer": "ipython3",
   "version": "3.10.0"
  },
  "vscode": {
   "interpreter": {
    "hash": "dda1c080d881ff594d995f106008b7b4867f02a791aada0a67430868a128f4a2"
   }
  }
 },
 "nbformat": 4,
 "nbformat_minor": 5
}

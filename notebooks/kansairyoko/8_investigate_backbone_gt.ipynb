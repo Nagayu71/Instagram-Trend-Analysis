{
 "cells": [
  {
   "cell_type": "markdown",
   "id": "c530ceb4-cc70-4556-8641-f4d690ce1ce5",
   "metadata": {},
   "source": [
    "## The purpose of this file\n",
    "Delve into the backbone of temporal network, or significant ties, and draw it in a rational way with graph-tool."
   ]
  },
  {
   "cell_type": "code",
   "execution_count": null,
   "id": "3504b359-7d1b-41b1-8e97-cf64fc063b6b",
   "metadata": {},
   "outputs": [],
   "source": [
    "import sys\n",
    "sys.path.append('../')\n",
    "import numpy as np\n",
    "import toolbox as tb\n",
    "import graph_tool.all as gt"
   ]
  },
  {
   "cell_type": "code",
   "execution_count": null,
   "id": "a0ed8cca-f810-4db9-946b-e26f3d8bddf2",
   "metadata": {},
   "outputs": [],
   "source": [
    "tag = \"kansairyoko\"\n",
    "hashtag = \"関西旅行\" \n",
    "timespan = \"21-29\"\n",
    "tau = 444\n",
    "SL1 = \"B0001\"\n",
    "SL2 = \"B001\"\n",
    "G1 = gt.load_graph(f'../data/graph_data/{tag}/backbone/{hashtag}_{timespan}_{tau}_backbone_{SL1}.graphml')\n",
    "#G2 = gt.load_graph(f'../data/graph_data/{tag}/backbone/{hashtag}_{timespan}_{tau}_backbone_{SL2}.graphml')"
   ]
  },
  {
   "cell_type": "code",
   "execution_count": null,
   "id": "0063c937-a301-4212-b6b8-9ff55baa195b",
   "metadata": {},
   "outputs": [],
   "source": [
    "print(G1.num_vertices(), G1.num_edges())\n",
    "#print(G2.num_vertices(), G2.num_edges())"
   ]
  },
  {
   "cell_type": "code",
   "execution_count": null,
   "id": "aa9a7f6c-6ab3-43cd-b0fd-525a9d44946a",
   "metadata": {},
   "outputs": [],
   "source": [
    "# Save figure for future use\n",
    "extension = \"pdf\"\n",
    "fname1 = f\"../data/figure/network/B0001ALL_{hashtag}_{timespan}_{tau}.{extension}\"\n",
    "fname2 = f\"../data/figure/network/B001ALL_{hashtag}_{timespan}_{tau}.{extension}\"\n",
    "fname3 = f\"../data/figure/network/B0001LargestComponent_{hashtag}_{timespan}_{tau}.{extension}\"\n",
    "fname4 = f\"../data/figure/network/B001LargestComponent_{hashtag}_{timespan}_{tau}.{extension}\"\n",
    "fname5 = f\"../data/figure/network/B0001NestedCommunity_{hashtag}_{timespan}_{tau}.{extension}\"\n",
    "fname6 = f\"../data/figure/network/B0001Community_{hashtag}_{timespan}_{tau}.{extension}\""
   ]
  },
  {
   "cell_type": "code",
   "execution_count": null,
   "id": "1a816607-4a2a-4f76-a516-69972c17c8f4",
   "metadata": {},
   "outputs": [],
   "source": [
    "print(fname1)\n",
    "#gt.graph_draw(G1, output=fname1)\n",
    "gt.graph_draw(G1)"
   ]
  },
  {
   "cell_type": "code",
   "execution_count": null,
   "id": "ba788362-d967-4631-820a-827cd2f3a4f9",
   "metadata": {},
   "outputs": [],
   "source": [
    "#print(fname2)\n",
    "#gt.graph_draw(G2, output=fname2);"
   ]
  },
  {
   "cell_type": "code",
   "execution_count": null,
   "id": "8234da04-a404-4e34-bd5c-2d92e32d205b",
   "metadata": {},
   "outputs": [],
   "source": [
    "LC1 = gt.extract_largest_component(G1, prune=True)\n",
    "#LC2 = gt.extract_largest_component(G2, prune=True)"
   ]
  },
  {
   "cell_type": "code",
   "execution_count": null,
   "id": "f800972a-a831-4eb4-a0ac-a20a60e0eaff",
   "metadata": {},
   "outputs": [],
   "source": [
    "print(fname3)\n",
    "#gt.graph_draw(LC1, output=fname3, output_size=(800,700));\n",
    "gt.graph_draw(LC1, output_size=(800,700), vertex_size=7);"
   ]
  },
  {
   "cell_type": "code",
   "execution_count": null,
   "id": "7f7c9cfb-a91a-45d9-86b4-97286d9fd926",
   "metadata": {},
   "outputs": [],
   "source": [
    "#print(fname4)\n",
    "#gt.graph_draw(LC2, output=fname4, output_size=(800,700));\n",
    "#gt.graph_draw(LC2, output_size=(800,700), vertex_size=7);"
   ]
  },
  {
   "cell_type": "code",
   "execution_count": null,
   "id": "6a988205-6440-43e4-bf18-0b7a2bfc1757",
   "metadata": {},
   "outputs": [],
   "source": [
    "nested = gt.minimize_nested_blockmodel_dl(LC1)\n",
    "state = gt.minimize_blockmodel_dl(LC1)"
   ]
  },
  {
   "cell_type": "code",
   "execution_count": null,
   "id": "34f5008a-cecf-4d21-bc95-d1c9cad09048",
   "metadata": {},
   "outputs": [],
   "source": [
    "print(fname5)\n",
    "nested.draw(output=fname5);\n",
    "#nested.draw();"
   ]
  },
  {
   "cell_type": "code",
   "execution_count": null,
   "id": "5cd3c4bb-025a-46e6-8a59-128fd68c7009",
   "metadata": {},
   "outputs": [],
   "source": [
    "print(fname6)\n",
    "state.draw(output_size=(1000,700), vertex_size=7, output=fname6);\n",
    "#state.draw(output_size=(1000,800), vertex_size=7);"
   ]
  }
 ],
 "metadata": {
  "kernelspec": {
   "display_name": "Python 3 (ipykernel)",
   "language": "python",
   "name": "python3"
  },
  "language_info": {
   "codemirror_mode": {
    "name": "ipython",
    "version": 3
   },
   "file_extension": ".py",
   "mimetype": "text/x-python",
   "name": "python",
   "nbconvert_exporter": "python",
   "pygments_lexer": "ipython3",
   "version": "3.10.0"
  },
  "vscode": {
   "interpreter": {
    "hash": "dda1c080d881ff594d995f106008b7b4867f02a791aada0a67430868a128f4a2"
   }
  }
 },
 "nbformat": 4,
 "nbformat_minor": 5
}

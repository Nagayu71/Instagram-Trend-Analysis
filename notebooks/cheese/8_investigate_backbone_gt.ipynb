{
 "cells": [
  {
   "cell_type": "markdown",
   "id": "c530ceb4-cc70-4556-8641-f4d690ce1ce5",
   "metadata": {},
   "source": [
    "## The purpose of this file\n",
    "Delve into the backbone of temporal network, or significant ties, and draw it in a rational way with graph-tool."
   ]
  },
  {
   "cell_type": "code",
   "execution_count": null,
   "id": "3504b359-7d1b-41b1-8e97-cf64fc063b6b",
   "metadata": {},
   "outputs": [],
   "source": [
    "import sys\n",
    "sys.path.append('../')\n",
    "import numpy as np\n",
    "import toolbox as tb\n",
    "import graph_tool.all as gt"
   ]
  },
  {
   "cell_type": "code",
   "execution_count": null,
   "id": "a0ed8cca-f810-4db9-946b-e26f3d8bddf2",
   "metadata": {},
   "outputs": [],
   "source": [
    "tag = \"cheese\"\n",
    "hashtag = \"チーズ\" \n",
    "timespan = \"23-24\"\n",
    "tau = 70\n",
    "SL1 = \"B0001\"\n",
    "SL2 = \"B001\"\n",
    "G1 = gt.load_graph(f'../data/graph_data/{tag}/backbone/{hashtag}_{timespan}_{tau}_backbone_{SL1}.graphml')\n",
    "#G2 = gt.load_graph(f'../data/graph_data/{tag}/backbone/{hashtag}_{timespan}_{tau}_backbone_{SL2}.graphml')"
   ]
  },
  {
   "cell_type": "code",
   "execution_count": null,
   "id": "0063c937-a301-4212-b6b8-9ff55baa195b",
   "metadata": {},
   "outputs": [],
   "source": [
    "print(G1.num_vertices(), G1.num_edges())\n",
    "#print(G2.num_vertices(), G2.num_edges())"
   ]
  },
  {
   "cell_type": "code",
   "execution_count": null,
   "id": "4c5c28e9-6352-4a80-bb0b-ae95947ddbab",
   "metadata": {},
   "outputs": [],
   "source": [
    "# Save figure for future use\n",
    "extension = \"pdf\"\n",
    "fname1 = f\"../data/figure/network/B0001ALL_{hashtag}_{timespan}_{tau}.{extension}\"\n",
    "fname2 = f\"../data/figure/network/B001ALL_{hashtag}_{timespan}_{tau}.{extension}\"\n",
    "fname3 = f\"../data/figure/network/B0001LargestComponent_{hashtag}_{timespan}_{tau}.{extension}\"\n",
    "fname4 = f\"../data/figure/network/B001LargestComponent_{hashtag}_{timespan}_{tau}.{extension}\"\n",
    "fname5 = f\"../data/figure/network/B0001NestedCommunity_{hashtag}_{timespan}_{tau}.{extension}\"\n",
    "fname6 = f\"../data/figure/network/B0001Community_{hashtag}_{timespan}_{tau}.{extension}\""
   ]
  },
  {
   "cell_type": "code",
   "execution_count": null,
   "id": "355c39b5-ad7b-4bfe-a923-8f1109064af4",
   "metadata": {},
   "outputs": [],
   "source": [
    "print(fname1)\n",
    "#gt.graph_draw(G1, output=fname1)\n",
    "gt.graph_draw(G1)"
   ]
  },
  {
   "cell_type": "code",
   "execution_count": null,
   "id": "aa9a7f6c-6ab3-43cd-b0fd-525a9d44946a",
   "metadata": {},
   "outputs": [],
   "source": [
    "#print(fname2)\n",
    "#gt.graph_draw(G2, output=fname2);"
   ]
  },
  {
   "cell_type": "code",
   "execution_count": null,
   "id": "1b9b8de6-635e-4f4e-8261-52f8d9f2d2b6",
   "metadata": {},
   "outputs": [],
   "source": [
    "LC1 = gt.extract_largest_component(G1, prune=True)\n",
    "#LC2 = gt.extract_largest_component(G2, prune=True)"
   ]
  },
  {
   "cell_type": "code",
   "execution_count": null,
   "id": "9b2a15b3-fa42-49e1-88a4-67c43590fe51",
   "metadata": {},
   "outputs": [],
   "source": [
    "print(fname3)\n",
    "#gt.graph_draw(LC1, output=fname3, output_size=(800,700));\n",
    "gt.graph_draw(LC1, output_size=(800,700), vertex_size=7);"
   ]
  },
  {
   "cell_type": "code",
   "execution_count": null,
   "id": "115bd295-f391-4134-8f19-9c29318b0bcb",
   "metadata": {},
   "outputs": [],
   "source": [
    "#print(fname4)\n",
    "#gt.graph_draw(LC2, output=fname4, output_size=(800,700));\n",
    "#gt.graph_draw(LC2, output_size=(800,700), vertex_size=7);"
   ]
  },
  {
   "cell_type": "code",
   "execution_count": null,
   "id": "67071d0e-6b57-414f-95cd-11ecd4427d81",
   "metadata": {},
   "outputs": [],
   "source": [
    "nested = gt.minimize_nested_blockmodel_dl(LC1)\n",
    "state = gt.minimize_blockmodel_dl(LC1)"
   ]
  },
  {
   "cell_type": "code",
   "execution_count": null,
   "id": "bdba3695-1152-4f87-be5c-337bde12b464",
   "metadata": {},
   "outputs": [],
   "source": [
    "print(fname5)\n",
    "nested.draw(output=fname5);\n",
    "#nested.draw();"
   ]
  },
  {
   "cell_type": "code",
   "execution_count": null,
   "id": "0864d2e8-0898-4d94-ae66-ab4cf556b2a2",
   "metadata": {},
   "outputs": [],
   "source": [
    "print(fname6)\n",
    "state.draw(output_size=(1000,700), vertex_size=7, output=fname6);\n",
    "#state.draw(output_size=(1000,800), vertex_size=7);"
   ]
  }
 ],
 "metadata": {
  "kernelspec": {
   "display_name": "Python 3 (ipykernel)",
   "language": "python",
   "name": "python3"
  },
  "language_info": {
   "codemirror_mode": {
    "name": "ipython",
    "version": 3
   },
   "file_extension": ".py",
   "mimetype": "text/x-python",
   "name": "python",
   "nbconvert_exporter": "python",
   "pygments_lexer": "ipython3",
   "version": "3.10.0"
  },
  "vscode": {
   "interpreter": {
    "hash": "dda1c080d881ff594d995f106008b7b4867f02a791aada0a67430868a128f4a2"
   }
  }
 },
 "nbformat": 4,
 "nbformat_minor": 5
}

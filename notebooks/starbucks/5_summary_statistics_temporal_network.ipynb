{
 "cells": [
  {
   "cell_type": "markdown",
   "id": "c698c767-80f8-4a61-aca7-993b02d54d11",
   "metadata": {},
   "source": [
    "## The purpose of this file\n",
    "Make summary statistics of temporal network and save it.<br>The output dataframe has eight colums like this:<br>\n",
    "|  | $\\tau$ | $\\Delta$ | $\\overline{N}$ | $N_{min}$ | $N_{max}$ | $\\overline{L}$ | $L_{min}$ | $L_{max}$ | $\\overline{<k>}$ |\n",
    "|--|:-------|:---------|----------------|-----------|-----------|----------------|-----------|-----------|-------------------------|\n",
    "| hashtag|  |          |                |           |           |                |           |           |                         |"
   ]
  },
  {
   "cell_type": "code",
   "execution_count": 1,
   "id": "f34c0030-68e2-41f4-9344-edf2eeb2c9e4",
   "metadata": {},
   "outputs": [],
   "source": [
    "import sys\n",
    "sys.path.append('../')\n",
    "import toolbox as tb\n",
    "import pandas as pd\n",
    "import numpy as np"
   ]
  },
  {
   "cell_type": "code",
   "execution_count": 2,
   "id": "0a4eef77-0c79-4791-9937-c75eebff9c23",
   "metadata": {},
   "outputs": [
    {
     "data": {
      "text/html": [
       "<div>\n",
       "<style scoped>\n",
       "    .dataframe tbody tr th:only-of-type {\n",
       "        vertical-align: middle;\n",
       "    }\n",
       "\n",
       "    .dataframe tbody tr th {\n",
       "        vertical-align: top;\n",
       "    }\n",
       "\n",
       "    .dataframe thead th {\n",
       "        text-align: right;\n",
       "    }\n",
       "</style>\n",
       "<table border=\"1\" class=\"dataframe\">\n",
       "  <thead>\n",
       "    <tr style=\"text-align: right;\">\n",
       "      <th></th>\n",
       "      <th>tau</th>\n",
       "      <th>N</th>\n",
       "      <th>L</th>\n",
       "      <th>&lt;k&gt;</th>\n",
       "    </tr>\n",
       "  </thead>\n",
       "  <tbody>\n",
       "    <tr>\n",
       "      <th>0</th>\n",
       "      <td>1</td>\n",
       "      <td>240</td>\n",
       "      <td>2857</td>\n",
       "      <td>23.808333</td>\n",
       "    </tr>\n",
       "    <tr>\n",
       "      <th>1</th>\n",
       "      <td>2</td>\n",
       "      <td>284</td>\n",
       "      <td>3305</td>\n",
       "      <td>23.274648</td>\n",
       "    </tr>\n",
       "    <tr>\n",
       "      <th>2</th>\n",
       "      <td>3</td>\n",
       "      <td>312</td>\n",
       "      <td>3606</td>\n",
       "      <td>23.115385</td>\n",
       "    </tr>\n",
       "    <tr>\n",
       "      <th>3</th>\n",
       "      <td>4</td>\n",
       "      <td>364</td>\n",
       "      <td>4254</td>\n",
       "      <td>23.373626</td>\n",
       "    </tr>\n",
       "    <tr>\n",
       "      <th>4</th>\n",
       "      <td>5</td>\n",
       "      <td>383</td>\n",
       "      <td>4387</td>\n",
       "      <td>22.908616</td>\n",
       "    </tr>\n",
       "  </tbody>\n",
       "</table>\n",
       "</div>"
      ],
      "text/plain": [
       "   tau    N     L        <k>\n",
       "0    1  240  2857  23.808333\n",
       "1    2  284  3305  23.274648\n",
       "2    3  312  3606  23.115385\n",
       "3    4  364  4254  23.373626\n",
       "4    5  383  4387  22.908616"
      ]
     },
     "execution_count": 2,
     "metadata": {},
     "output_type": "execute_result"
    }
   ],
   "source": [
    "tag = \"starbucks\"\n",
    "hashtag = \"スターバックス\"\n",
    "timespan = \"23-25\"\n",
    "delta = \"30 minutes\"\n",
    "#delta = \"1 hour\"\n",
    "tau = 189\n",
    "df = pd.read_pickle(f'../data/time_evolution/{tag}/time-evolution_{timespan}_{tau}.pkl')\n",
    "df.head()"
   ]
  },
  {
   "cell_type": "code",
   "execution_count": 3,
   "id": "a071230b-f943-41a8-8c82-9310fa9a119e",
   "metadata": {},
   "outputs": [],
   "source": [
    "N_min, N_max, N_ave = np.min(df[\"N\"]), np.max(df[\"N\"]), np.round(np.mean(df[\"N\"]), decimals=2)\n",
    "L_min, L_max, L_ave = np.min(df[\"L\"]), np.max(df[\"L\"]), np.round(np.mean(df[\"L\"]), decimals=2)\n",
    "ave_k_braket = np.round(np.mean(df[\"<k>\"]), decimals=2)"
   ]
  },
  {
   "cell_type": "code",
   "execution_count": 4,
   "id": "6c3b0a95-3d86-4339-b0b4-12d142083451",
   "metadata": {},
   "outputs": [
    {
     "name": "stdout",
     "output_type": "stream",
     "text": [
      "../data/temporal_network_summary_statistics/starbucks/sstn_23-25_189.pkl\n"
     ]
    },
    {
     "data": {
      "text/html": [
       "<div>\n",
       "<style scoped>\n",
       "    .dataframe tbody tr th:only-of-type {\n",
       "        vertical-align: middle;\n",
       "    }\n",
       "\n",
       "    .dataframe tbody tr th {\n",
       "        vertical-align: top;\n",
       "    }\n",
       "\n",
       "    .dataframe thead th {\n",
       "        text-align: right;\n",
       "    }\n",
       "</style>\n",
       "<table border=\"1\" class=\"dataframe\">\n",
       "  <thead>\n",
       "    <tr style=\"text-align: right;\">\n",
       "      <th></th>\n",
       "      <th>tau</th>\n",
       "      <th>delta</th>\n",
       "      <th>N_ave</th>\n",
       "      <th>N_min</th>\n",
       "      <th>N_max</th>\n",
       "      <th>L_ave</th>\n",
       "      <th>L_min</th>\n",
       "      <th>L_max</th>\n",
       "      <th>overline&lt;k&gt;</th>\n",
       "    </tr>\n",
       "  </thead>\n",
       "  <tbody>\n",
       "    <tr>\n",
       "      <th>スターバックス</th>\n",
       "      <td>189</td>\n",
       "      <td>30 minutes</td>\n",
       "      <td>9896.76</td>\n",
       "      <td>240</td>\n",
       "      <td>17577</td>\n",
       "      <td>170750.06</td>\n",
       "      <td>2857</td>\n",
       "      <td>321165</td>\n",
       "      <td>32.82</td>\n",
       "    </tr>\n",
       "  </tbody>\n",
       "</table>\n",
       "</div>"
      ],
      "text/plain": [
       "         tau       delta    N_ave  N_min  N_max      L_ave  L_min   L_max  \\\n",
       "スターバックス  189  30 minutes  9896.76    240  17577  170750.06   2857  321165   \n",
       "\n",
       "         overline<k>  \n",
       "スターバックス        32.82  "
      ]
     },
     "execution_count": 4,
     "metadata": {},
     "output_type": "execute_result"
    }
   ],
   "source": [
    "fname = f'../data/temporal_network_summary_statistics/{tag}/sstn_{timespan}_{tau}.pkl'\n",
    "statistics = pd.DataFrame({\"tau\":tau, \"delta\":delta, \"N_ave\":N_ave, \"N_min\":N_min, \"N_max\":N_max, \"L_ave\":L_ave, \"L_min\":L_min, \"L_max\":L_max,\"overline<k>\": ave_k_braket}, index=[hashtag])\n",
    "statistics.to_pickle(fname)\n",
    "print(fname)\n",
    "statistics"
   ]
  }
 ],
 "metadata": {
  "kernelspec": {
   "display_name": "Python 3 (ipykernel)",
   "language": "python",
   "name": "python3"
  },
  "language_info": {
   "codemirror_mode": {
    "name": "ipython",
    "version": 3
   },
   "file_extension": ".py",
   "mimetype": "text/x-python",
   "name": "python",
   "nbconvert_exporter": "python",
   "pygments_lexer": "ipython3",
   "version": "3.10.0"
  },
  "vscode": {
   "interpreter": {
    "hash": "dda1c080d881ff594d995f106008b7b4867f02a791aada0a67430868a128f4a2"
   }
  }
 },
 "nbformat": 4,
 "nbformat_minor": 5
}

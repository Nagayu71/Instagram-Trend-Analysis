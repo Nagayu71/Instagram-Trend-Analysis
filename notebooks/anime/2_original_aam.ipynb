{
 "cells": [
  {
   "cell_type": "markdown",
   "id": "05d4cac5-880c-4b89-b9b6-7087d103fc2a",
   "metadata": {},
   "source": [
    "## The purpose of this file\n",
    "Make an aggregate adjacency matrix and save it.\n",
    "> Be sure to add $\\tau$ (the number of snapshots you make) to the filename."
   ]
  },
  {
   "cell_type": "code",
   "execution_count": 1,
   "id": "f8ef35e2-d802-42f5-b576-bc11e33df6a5",
   "metadata": {},
   "outputs": [],
   "source": [
    "import sys\n",
    "sys.path.append('../')\n",
    "import powerlaw\n",
    "import pandas as pd\n",
    "import networkx as nx\n",
    "import toolbox as tb\n",
    "%matplotlib inline"
   ]
  },
  {
   "cell_type": "code",
   "execution_count": 2,
   "id": "561f98e1-50f7-4069-864d-2905a266d540",
   "metadata": {},
   "outputs": [],
   "source": [
    "tag = \"anime\"\n",
    "hashtag = \"アニメ\"\n",
    "timespan = \"21-29\"\n",
    "file = f\"../data/datasets/{tag}/{tag}_{timespan}.pkl\"\n",
    "df = tb.get_dataframe(hashtag, file)"
   ]
  },
  {
   "cell_type": "code",
   "execution_count": 3,
   "id": "6ddaa082-e0e6-4ae8-920b-5a34c3c46d75",
   "metadata": {},
   "outputs": [],
   "source": [
    "start = \"2022-11-24T00:00+09:00\"\n",
    "end = \"2022-11-24T23:59+09:00\"\n",
    "timespan = \"24-24\"\n",
    "start = pd.to_datetime(start)\n",
    "end = pd.to_datetime(end)\n",
    "DF = df[(start <= df.index) & (df.index <= end)]"
   ]
  },
  {
   "cell_type": "code",
   "execution_count": 4,
   "id": "d9ab079c-dbe1-4210-bf7a-3e253c621806",
   "metadata": {},
   "outputs": [],
   "source": [
    "#DF = df.copy()"
   ]
  },
  {
   "cell_type": "code",
   "execution_count": 5,
   "id": "9bc5acab-fd63-4ad1-81c9-30d2911f6185",
   "metadata": {},
   "outputs": [
    {
     "name": "stdout",
     "output_type": "stream",
     "text": [
      "tau = 95\n"
     ]
    }
   ],
   "source": [
    "tau, snapshots = tb.get_snapshots_closed_intervals(DF, 'minutes=15')\n",
    "#tau, snapshots = tb.get_snapshots_closed_intervals(DF, 'hours=1')\n",
    "print(f\"tau = {tau}\")"
   ]
  },
  {
   "cell_type": "code",
   "execution_count": 6,
   "id": "734b0d38-aac4-496b-b096-de11cae579b9",
   "metadata": {},
   "outputs": [
    {
     "name": "stdout",
     "output_type": "stream",
     "text": [
      "../data/graph_data/anime/original/アニメ_24-24_95_aam\n"
     ]
    }
   ],
   "source": [
    "edgelst_of_snapshots = tb.get_edgelist_of_eachsnapshot(df,tau, snapshots)\n",
    "filename = f'../data/graph_data/{tag}/original/{hashtag}_{timespan}_{tau}_aam'\n",
    "print(filename)\n",
    "#G = tb.make_aggregate_adjacency_matrix(edgelst_of_snapshots, fname=filename)\n",
    "G = tb.make_aggregate_adjacency_matrix(edgelst_of_snapshots)"
   ]
  },
  {
   "cell_type": "code",
   "execution_count": 7,
   "id": "ba087890-f7e7-49a4-85a9-cd64861e60fb",
   "metadata": {},
   "outputs": [
    {
     "data": {
      "text/plain": [
       "12025"
      ]
     },
     "execution_count": 7,
     "metadata": {},
     "output_type": "execute_result"
    }
   ],
   "source": [
    "G.number_of_nodes()"
   ]
  },
  {
   "cell_type": "code",
   "execution_count": null,
   "id": "dec02cc2-d022-4505-835c-c9bb855edb76",
   "metadata": {},
   "outputs": [],
   "source": []
  },
  {
   "cell_type": "code",
   "execution_count": 8,
   "id": "36d013b4-3cfe-4278-a827-87f586f65379",
   "metadata": {},
   "outputs": [
    {
     "name": "stdout",
     "output_type": "stream",
     "text": [
      "singleton:[]\n"
     ]
    },
    {
     "data": {
      "text/html": [
       "<div>\n",
       "<style scoped>\n",
       "    .dataframe tbody tr th:only-of-type {\n",
       "        vertical-align: middle;\n",
       "    }\n",
       "\n",
       "    .dataframe tbody tr th {\n",
       "        vertical-align: top;\n",
       "    }\n",
       "\n",
       "    .dataframe thead th {\n",
       "        text-align: right;\n",
       "    }\n",
       "</style>\n",
       "<table border=\"1\" class=\"dataframe\">\n",
       "  <thead>\n",
       "    <tr style=\"text-align: right;\">\n",
       "      <th></th>\n",
       "      <th>degree</th>\n",
       "    </tr>\n",
       "  </thead>\n",
       "  <tbody>\n",
       "    <tr>\n",
       "      <th>アニメ</th>\n",
       "      <td>12024</td>\n",
       "    </tr>\n",
       "    <tr>\n",
       "      <th>anime</th>\n",
       "      <td>5305</td>\n",
       "    </tr>\n",
       "    <tr>\n",
       "      <th>漫画</th>\n",
       "      <td>2858</td>\n",
       "    </tr>\n",
       "    <tr>\n",
       "      <th>manga</th>\n",
       "      <td>2210</td>\n",
       "    </tr>\n",
       "    <tr>\n",
       "      <th>イラスト</th>\n",
       "      <td>2117</td>\n",
       "    </tr>\n",
       "    <tr>\n",
       "      <th>...</th>\n",
       "      <td>...</td>\n",
       "    </tr>\n",
       "    <tr>\n",
       "      <th>今期見たやつ</th>\n",
       "      <td>1</td>\n",
       "    </tr>\n",
       "    <tr>\n",
       "      <th>ThrowbackTrack</th>\n",
       "      <td>1</td>\n",
       "    </tr>\n",
       "    <tr>\n",
       "      <th>斉木楠雄のψ難</th>\n",
       "      <td>1</td>\n",
       "    </tr>\n",
       "    <tr>\n",
       "      <th>ゆるの絵</th>\n",
       "      <td>1</td>\n",
       "    </tr>\n",
       "    <tr>\n",
       "      <th>幼馴染じゃ我慢できない</th>\n",
       "      <td>1</td>\n",
       "    </tr>\n",
       "  </tbody>\n",
       "</table>\n",
       "<p>12025 rows × 1 columns</p>\n",
       "</div>"
      ],
      "text/plain": [
       "                degree\n",
       "アニメ              12024\n",
       "anime             5305\n",
       "漫画                2858\n",
       "manga             2210\n",
       "イラスト              2117\n",
       "...                ...\n",
       "今期見たやつ               1\n",
       "ThrowbackTrack       1\n",
       "斉木楠雄のψ難              1\n",
       "ゆるの絵                 1\n",
       "幼馴染じゃ我慢できない          1\n",
       "\n",
       "[12025 rows x 1 columns]"
      ]
     },
     "execution_count": 8,
     "metadata": {},
     "output_type": "execute_result"
    }
   ],
   "source": [
    "tb.check_degree(G)"
   ]
  },
  {
   "cell_type": "code",
   "execution_count": 9,
   "id": "b01c4209-2c60-41e8-8a77-9dce415b0fb9",
   "metadata": {},
   "outputs": [
    {
     "data": {
      "image/png": "[encoded data removed]",
      "text/plain": [
       "<Figure size 640x480 with 1 Axes>"
      ]
     },
     "metadata": {},
     "output_type": "display_data"
    }
   ],
   "source": [
    "tb.plot_dd(G, 20)"
   ]
  },
  {
   "cell_type": "code",
   "execution_count": 10,
   "id": "dd337aff-84d3-4ca7-aca2-12e17b7fdd61",
   "metadata": {},
   "outputs": [
    {
     "name": "stdout",
     "output_type": "stream",
     "text": [
      "Calculating best minimal value for power law fit\n",
      "------------------------------------------------\n",
      "the fitted parameter alpha: 2.629645002320181, \n",
      "its standard error sigma: 0.06006951174503484, \n",
      "k_min: 92.0\n"
     ]
    },
    {
     "data": {
      "text/plain": [
       "(2.629645002320181, 0.06006951174503484, 92.0)"
      ]
     },
     "execution_count": 10,
     "metadata": {},
     "output_type": "execute_result"
    }
   ],
   "source": [
    "tb.fit_power_law(G)"
   ]
  },
  {
   "cell_type": "code",
   "execution_count": 11,
   "id": "41b3f2b2-5867-42d3-9adf-9d8446e75f29",
   "metadata": {},
   "outputs": [
    {
     "name": "stdout",
     "output_type": "stream",
     "text": [
      "Calculating best minimal value for power law fit\n",
      "------------------------------------------------\n",
      "The power_law distribution outperforms exponential distribution with significance level 0.0014505584088447736.\n"
     ]
    }
   ],
   "source": [
    "tb.compare_distribution(G,\"power_law\", \"exponential\")"
   ]
  },
  {
   "cell_type": "code",
   "execution_count": 12,
   "id": "0a111cd3-c366-4fa8-a797-57630a748c3e",
   "metadata": {},
   "outputs": [
    {
     "name": "stdout",
     "output_type": "stream",
     "text": [
      "Calculating best minimal value for power law fit\n",
      "------------------------------------------------\n",
      "The power_law distribution outperforms lognormal distribution with significance level 0.7989128272550032.\n"
     ]
    }
   ],
   "source": [
    "tb.compare_distribution(G,\"power_law\", \"lognormal\")"
   ]
  },
  {
   "cell_type": "code",
   "execution_count": 13,
   "id": "80222bbe-976c-4bdf-b481-662349fcea0d",
   "metadata": {},
   "outputs": [
    {
     "name": "stdout",
     "output_type": "stream",
     "text": [
      "Calculating best minimal value for power law fit\n",
      "------------------------------------------------\n",
      "the fitted parameter alpha: 2.629645002320181, \n",
      "its standard error sigma: 0.06006951174503484, \n",
      "k_min: 92.0\n"
     ]
    },
    {
     "data": {
      "image/png": "[encoded data removed]",
      "text/plain": [
       "<Figure size 640x480 with 1 Axes>"
      ]
     },
     "metadata": {},
     "output_type": "display_data"
    }
   ],
   "source": [
    "tb.plot_pdf_ccdf(G, Pcolor=\"#FF7A72\", Ccolor=\"#6AC4BA\")"
   ]
  },
  {
   "cell_type": "code",
   "execution_count": null,
   "id": "fe7cab3a-e867-473b-a394-d7277bcc82c5",
   "metadata": {},
   "outputs": [],
   "source": []
  },
  {
   "cell_type": "markdown",
   "id": "bbb88c61-6405-41f8-82f2-900b8eda1924",
   "metadata": {},
   "source": [
    "The following is for when the network created during the entire period is too large to draw the degree distribution (`3_modified_aam.ipynb`) due to lack of memory."
   ]
  },
  {
   "cell_type": "code",
   "execution_count": 14,
   "id": "831ca961-601e-47d4-a289-66082f8b826f",
   "metadata": {},
   "outputs": [
    {
     "name": "stdout",
     "output_type": "stream",
     "text": [
      "Isolates after removal of the searchtag: \n",
      "['ThrowbackTrack', '斉木楠雄のψ難', '하이큐', '幼馴染じゃ我慢できない', 'オーダーケーキ', 'ゆるの絵', 'umiaox8k', '今期見たやつ']\n",
      "These isolate nodes are to be removed.\n",
      "============================================\n",
      "The isolate nodes were successfully deleted.\n"
     ]
    }
   ],
   "source": [
    "G.remove_node(hashtag)\n",
    "print(f\"Isolates after removal of the searchtag: \\n{list(nx.isolates(G))}\")\n",
    "print(\"These isolate nodes are to be removed.\")\n",
    "G.remove_nodes_from(list(nx.isolates(G)))\n",
    "assert len(list(nx.isolates(G))) == 0, \"There is at least one isolate node left.\"\n",
    "print(\"============================================\")\n",
    "print(\"The isolate nodes were successfully deleted.\")"
   ]
  },
  {
   "cell_type": "code",
   "execution_count": 15,
   "id": "e2ef9c31-f3e9-462b-8aa4-8da49baba2fd",
   "metadata": {},
   "outputs": [
    {
     "name": "stdout",
     "output_type": "stream",
     "text": [
      "singleton:[]\n"
     ]
    },
    {
     "data": {
      "text/html": [
       "<div>\n",
       "<style scoped>\n",
       "    .dataframe tbody tr th:only-of-type {\n",
       "        vertical-align: middle;\n",
       "    }\n",
       "\n",
       "    .dataframe tbody tr th {\n",
       "        vertical-align: top;\n",
       "    }\n",
       "\n",
       "    .dataframe thead th {\n",
       "        text-align: right;\n",
       "    }\n",
       "</style>\n",
       "<table border=\"1\" class=\"dataframe\">\n",
       "  <thead>\n",
       "    <tr style=\"text-align: right;\">\n",
       "      <th></th>\n",
       "      <th>degree</th>\n",
       "    </tr>\n",
       "  </thead>\n",
       "  <tbody>\n",
       "    <tr>\n",
       "      <th>anime</th>\n",
       "      <td>5304</td>\n",
       "    </tr>\n",
       "    <tr>\n",
       "      <th>漫画</th>\n",
       "      <td>2857</td>\n",
       "    </tr>\n",
       "    <tr>\n",
       "      <th>manga</th>\n",
       "      <td>2209</td>\n",
       "    </tr>\n",
       "    <tr>\n",
       "      <th>イラスト</th>\n",
       "      <td>2116</td>\n",
       "    </tr>\n",
       "    <tr>\n",
       "      <th>アニメ好きな人と繋がりたい</th>\n",
       "      <td>1768</td>\n",
       "    </tr>\n",
       "    <tr>\n",
       "      <th>...</th>\n",
       "      <td>...</td>\n",
       "    </tr>\n",
       "    <tr>\n",
       "      <th>毎日アニメ</th>\n",
       "      <td>1</td>\n",
       "    </tr>\n",
       "    <tr>\n",
       "      <th>湘南テアトロデラルテ</th>\n",
       "      <td>1</td>\n",
       "    </tr>\n",
       "    <tr>\n",
       "      <th>witch</th>\n",
       "      <td>1</td>\n",
       "    </tr>\n",
       "    <tr>\n",
       "      <th>映像研には手を出すな</th>\n",
       "      <td>1</td>\n",
       "    </tr>\n",
       "    <tr>\n",
       "      <th>キャスト応募は公式Twitterから</th>\n",
       "      <td>1</td>\n",
       "    </tr>\n",
       "  </tbody>\n",
       "</table>\n",
       "<p>12016 rows × 1 columns</p>\n",
       "</div>"
      ],
      "text/plain": [
       "                    degree\n",
       "anime                 5304\n",
       "漫画                    2857\n",
       "manga                 2209\n",
       "イラスト                  2116\n",
       "アニメ好きな人と繋がりたい         1768\n",
       "...                    ...\n",
       "毎日アニメ                    1\n",
       "湘南テアトロデラルテ               1\n",
       "witch                    1\n",
       "映像研には手を出すな               1\n",
       "キャスト応募は公式Twitterから       1\n",
       "\n",
       "[12016 rows x 1 columns]"
      ]
     },
     "execution_count": 15,
     "metadata": {},
     "output_type": "execute_result"
    }
   ],
   "source": [
    "tb.check_degree(G)"
   ]
  },
  {
   "cell_type": "code",
   "execution_count": 16,
   "id": "1edb3757-476f-4e48-b5ef-1efdc3b4b6fd",
   "metadata": {},
   "outputs": [
    {
     "name": "stdout",
     "output_type": "stream",
     "text": [
      "Calculating best minimal value for power law fit\n",
      "------------------------------------------------\n",
      "the fitted parameter alpha: 2.6538880373134974, \n",
      "its standard error sigma: 0.061722553359944206, \n",
      "k_min: 93.0\n"
     ]
    },
    {
     "data": {
      "text/plain": [
       "(2.6538880373134974, 0.061722553359944206, 93.0)"
      ]
     },
     "execution_count": 16,
     "metadata": {},
     "output_type": "execute_result"
    }
   ],
   "source": [
    "tb.fit_power_law(G)"
   ]
  },
  {
   "cell_type": "code",
   "execution_count": 17,
   "id": "85dce020-d247-4bae-9c82-c5b11931d30a",
   "metadata": {},
   "outputs": [
    {
     "name": "stdout",
     "output_type": "stream",
     "text": [
      "Calculating best minimal value for power law fit\n",
      "------------------------------------------------\n",
      "The power_law distribution outperforms exponential distribution with significance level 7.102006283918912e-06.\n"
     ]
    }
   ],
   "source": [
    "tb.compare_distribution(G,\"power_law\", \"exponential\")"
   ]
  },
  {
   "cell_type": "code",
   "execution_count": 18,
   "id": "cc9da21f-8cca-4ecc-b9b2-11a66f9a95be",
   "metadata": {},
   "outputs": [
    {
     "name": "stdout",
     "output_type": "stream",
     "text": [
      "Calculating best minimal value for power law fit\n",
      "------------------------------------------------\n",
      "The lognormal distribution outperforms power_law distribution with significance level 0.933516009423366.\n"
     ]
    }
   ],
   "source": [
    "tb.compare_distribution(G,\"power_law\", \"lognormal\")"
   ]
  },
  {
   "cell_type": "code",
   "execution_count": null,
   "id": "a3f03568-e106-405c-97fc-a69cd884f710",
   "metadata": {},
   "outputs": [],
   "source": [
    "# Save figure for future use\n",
    "fname1 = f\"../data/figure/degree_distribution/pdfccdf1_{tag}_{timespan}_{tau}.pdf\"\n",
    "fname2 = f\"../data/figure/degree_distribution/pdfccdf2_{tag}_{timespan}_{tau}.pdf\"\n",
    "print(fname1)\n",
    "print(fname2)"
   ]
  },
  {
   "cell_type": "code",
   "execution_count": null,
   "id": "ee1f9bb7-676c-4db5-9147-87916e06a5ac",
   "metadata": {},
   "outputs": [],
   "source": [
    "tb.plot_pdf_ccdf(G, Pcolor=\"#FF7A72\", Ccolor=\"#6AC4BA\", fname=fname1)"
   ]
  },
  {
   "cell_type": "code",
   "execution_count": null,
   "id": "5c5171fc-065c-41c9-ba7e-6def5d06900c",
   "metadata": {},
   "outputs": [],
   "source": [
    "tb.plot_pdf_ccdf(G, sep=True, Pcolor=\"#FF7A72\", Ccolor=\"#6AC4BA\", fname=fname2)"
   ]
  },
  {
   "cell_type": "code",
   "execution_count": 19,
   "id": "3fea8ea4-ca37-4045-8d04-006b54cc9f12",
   "metadata": {},
   "outputs": [],
   "source": [
    "# Save modified aam for statistical test\n",
    "nx.write_graphml(G, f'../data/graph_data/{tag}/modified/{hashtag}_{timespan}_{tau}_mdaam.graphml', encoding='utf-8')"
   ]
  }
 ],
 "metadata": {
  "kernelspec": {
   "display_name": "Python 3 (ipykernel)",
   "language": "python",
   "name": "python3"
  },
  "language_info": {
   "codemirror_mode": {
    "name": "ipython",
    "version": 3
   },
   "file_extension": ".py",
   "mimetype": "text/x-python",
   "name": "python",
   "nbconvert_exporter": "python",
   "pygments_lexer": "ipython3",
   "version": "3.10.0"
  },
  "vscode": {
   "interpreter": {
    "hash": "dda1c080d881ff594d995f106008b7b4867f02a791aada0a67430868a128f4a2"
   }
  }
 },
 "nbformat": 4,
 "nbformat_minor": 5
}

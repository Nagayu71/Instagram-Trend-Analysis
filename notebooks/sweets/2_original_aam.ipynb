{
 "cells": [
  {
   "cell_type": "markdown",
   "id": "05d4cac5-880c-4b89-b9b6-7087d103fc2a",
   "metadata": {},
   "source": [
    "## The purpose of this file\n",
    "Make an aggregate adjacency matrix and save it.\n",
    "> Be sure to add $\\tau$ (the number of snapshots you make) to the filename."
   ]
  },
  {
   "cell_type": "code",
   "execution_count": 1,
   "id": "f8ef35e2-d802-42f5-b576-bc11e33df6a5",
   "metadata": {},
   "outputs": [],
   "source": [
    "import sys\n",
    "sys.path.append('../')\n",
    "import powerlaw\n",
    "import pandas as pd\n",
    "import networkx as nx\n",
    "import toolbox as tb\n",
    "%matplotlib inline"
   ]
  },
  {
   "cell_type": "code",
   "execution_count": 2,
   "id": "561f98e1-50f7-4069-864d-2905a266d540",
   "metadata": {},
   "outputs": [],
   "source": [
    "tag = \"sweets\"\n",
    "hashtag = \"スイーツ\" # This variable is necessary for data processing in the module 'toolbox'.\n",
    "timespan = \"21-29\"\n",
    "file = f\"../data/datasets/{tag}/{tag}_{timespan}.pkl\"\n",
    "df = tb.get_dataframe(hashtag, file)"
   ]
  },
  {
   "cell_type": "code",
   "execution_count": 3,
   "id": "7b690125-10c1-47fb-bae5-f5ebc0d08ad2",
   "metadata": {},
   "outputs": [],
   "source": [
    "start = \"2022-11-22T00:00+09:00\"\n",
    "end = \"2022-11-22T17:30+09:00\"\n",
    "timespan = \"22-22\"\n",
    "start = pd.to_datetime(start)\n",
    "end = pd.to_datetime(end)\n",
    "DF = df[(start <= df.index) & (df.index <= end)]"
   ]
  },
  {
   "cell_type": "markdown",
   "id": "4cbdf610-830e-4717-8cf2-0f8d3a52f9cb",
   "metadata": {},
   "source": [
    "DF = df.copy()"
   ]
  },
  {
   "cell_type": "code",
   "execution_count": 4,
   "id": "9bc5acab-fd63-4ad1-81c9-30d2911f6185",
   "metadata": {},
   "outputs": [
    {
     "name": "stdout",
     "output_type": "stream",
     "text": [
      "tau = 69\n"
     ]
    }
   ],
   "source": [
    "tau, snapshots = tb.get_snapshots_closed_intervals(DF, 'minutes=15')\n",
    "#tau, snapshots = tb.get_snapshots_closed_intervals(DF, 'hours=1')\n",
    "print(f\"tau = {tau}\")"
   ]
  },
  {
   "cell_type": "code",
   "execution_count": 5,
   "id": "734b0d38-aac4-496b-b096-de11cae579b9",
   "metadata": {},
   "outputs": [
    {
     "name": "stdout",
     "output_type": "stream",
     "text": [
      "../data/graph_data/sweets/original/スイーツ_22-22_69_aam\n"
     ]
    }
   ],
   "source": [
    "edgelst_of_snapshots = tb.get_edgelist_of_eachsnapshot(df,tau, snapshots)\n",
    "filename = f'../data/graph_data/{tag}/original/{hashtag}_{timespan}_{tau}_aam'\n",
    "print(filename)\n",
    "#G = tb.make_aggregate_adjacency_matrix(edgelst_of_snapshots, fname=filename)\n",
    "G = tb.make_aggregate_adjacency_matrix(edgelst_of_snapshots)"
   ]
  },
  {
   "cell_type": "code",
   "execution_count": 6,
   "id": "ba087890-f7e7-49a4-85a9-cd64861e60fb",
   "metadata": {},
   "outputs": [
    {
     "data": {
      "text/plain": [
       "17467"
      ]
     },
     "execution_count": 6,
     "metadata": {},
     "output_type": "execute_result"
    }
   ],
   "source": [
    "G.number_of_nodes()"
   ]
  },
  {
   "cell_type": "code",
   "execution_count": null,
   "id": "dec02cc2-d022-4505-835c-c9bb855edb76",
   "metadata": {},
   "outputs": [],
   "source": []
  },
  {
   "cell_type": "code",
   "execution_count": null,
   "id": "36d013b4-3cfe-4278-a827-87f586f65379",
   "metadata": {},
   "outputs": [],
   "source": [
    "tb.check_degree(G)"
   ]
  },
  {
   "cell_type": "code",
   "execution_count": null,
   "id": "b01c4209-2c60-41e8-8a77-9dce415b0fb9",
   "metadata": {},
   "outputs": [],
   "source": [
    "tb.plot_dd(G, 20)"
   ]
  },
  {
   "cell_type": "code",
   "execution_count": null,
   "id": "dd337aff-84d3-4ca7-aca2-12e17b7fdd61",
   "metadata": {},
   "outputs": [],
   "source": [
    "tb.fit_power_law(G)"
   ]
  },
  {
   "cell_type": "code",
   "execution_count": null,
   "id": "41b3f2b2-5867-42d3-9adf-9d8446e75f29",
   "metadata": {},
   "outputs": [],
   "source": [
    "tb.compare_distribution(G,\"power_law\", \"exponential\")"
   ]
  },
  {
   "cell_type": "code",
   "execution_count": null,
   "id": "0a111cd3-c366-4fa8-a797-57630a748c3e",
   "metadata": {},
   "outputs": [],
   "source": [
    "tb.compare_distribution(G,\"power_law\", \"lognormal\")"
   ]
  },
  {
   "cell_type": "code",
   "execution_count": null,
   "id": "80222bbe-976c-4bdf-b481-662349fcea0d",
   "metadata": {},
   "outputs": [],
   "source": [
    "tb.plot_pdf_ccdf(G, Pcolor=\"#FF7A72\", Ccolor=\"#6AC4BA\")"
   ]
  },
  {
   "cell_type": "markdown",
   "id": "927ace87-3cb2-47fb-8912-5b3b5684a00e",
   "metadata": {},
   "source": [
    "The following is for when the network created during the entire period is too large to draw the degree distribution (`3_modified_aam.ipynb`) due to lack of memory."
   ]
  },
  {
   "cell_type": "code",
   "execution_count": 7,
   "id": "691ddfca-6f4e-439a-80ae-e422dfe7aeed",
   "metadata": {},
   "outputs": [
    {
     "name": "stdout",
     "output_type": "stream",
     "text": [
      "Isolates after removal of the searchtag: \n",
      "['fruitflambé', 'レゴランド', '苫小牧グルメ', '丸平珈琲', 'ジョナサン', '１ミリモンブラン', '브라더앤시스터']\n",
      "These isolate nodes are to be removed.\n",
      "============================================\n",
      "The isolate nodes were successfully deleted.\n"
     ]
    }
   ],
   "source": [
    "G.remove_node(hashtag)\n",
    "#G.remove_nodes_from([hashtag, \"\"])\n",
    "print(f\"Isolates after removal of the searchtag: \\n{list(nx.isolates(G))}\")\n",
    "print(\"These isolate nodes are to be removed.\")\n",
    "G.remove_nodes_from(list(nx.isolates(G)))\n",
    "assert len(list(nx.isolates(G))) == 0, \"There is at least one isolate node left.\"\n",
    "print(\"============================================\")\n",
    "print(\"The isolate nodes were successfully deleted.\")"
   ]
  },
  {
   "cell_type": "code",
   "execution_count": null,
   "id": "ac06b094-5edb-43e4-bd18-db9d362cf389",
   "metadata": {},
   "outputs": [],
   "source": [
    "tb.check_degree(G)"
   ]
  },
  {
   "cell_type": "code",
   "execution_count": null,
   "id": "bc449bc0-b395-4b61-8082-faae64f4571b",
   "metadata": {},
   "outputs": [],
   "source": [
    "tb.fit_power_law(G)"
   ]
  },
  {
   "cell_type": "code",
   "execution_count": null,
   "id": "09468e3f-754a-4bab-b811-5aaff5538a02",
   "metadata": {},
   "outputs": [],
   "source": [
    "tb.compare_distribution(G,\"power_law\", \"exponential\")"
   ]
  },
  {
   "cell_type": "code",
   "execution_count": null,
   "id": "aadc4895-4ccf-4b77-8f83-ca1401be54eb",
   "metadata": {},
   "outputs": [],
   "source": [
    "tb.compare_distribution(G,\"power_law\", \"lognormal\")"
   ]
  },
  {
   "cell_type": "code",
   "execution_count": 8,
   "id": "830ab374-a796-4adf-bbae-2487767e5aa3",
   "metadata": {},
   "outputs": [
    {
     "name": "stdout",
     "output_type": "stream",
     "text": [
      "../data/figure/degree_distribution/pdfccdf1_sweets_22-22_69.pdf\n",
      "../data/figure/degree_distribution/pdfccdf2_sweets_22-22_69.pdf\n"
     ]
    }
   ],
   "source": [
    "# Save figure for future use\n",
    "fname1 = f\"../data/figure/degree_distribution/pdfccdf1_{tag}_{timespan}_{tau}.pdf\"\n",
    "fname2 = f\"../data/figure/degree_distribution/pdfccdf2_{tag}_{timespan}_{tau}.pdf\"\n",
    "print(fname1)\n",
    "print(fname2)"
   ]
  },
  {
   "cell_type": "code",
   "execution_count": 9,
   "id": "56679db9-0d88-4914-9ffa-d56fbfde7527",
   "metadata": {},
   "outputs": [
    {
     "name": "stdout",
     "output_type": "stream",
     "text": [
      "Calculating best minimal value for power law fit\n",
      "------------------------------------------------\n",
      "the fitted parameter alpha: 2.3547182846719465, \n",
      "its standard error sigma: 0.03520233432910038, \n",
      "k_min: 62.0\n"
     ]
    },
    {
     "data": {
      "image/png": "[encoded data removed]",
      "text/plain": [
       "<Figure size 640x480 with 1 Axes>"
      ]
     },
     "metadata": {},
     "output_type": "display_data"
    }
   ],
   "source": [
    "tb.plot_pdf_ccdf(G, Pcolor=\"#FF7A72\", Ccolor=\"#6AC4BA\")\n",
    "#tb.plot_pdf_ccdf(G, Pcolor=\"#FF7A72\", Ccolor=\"#6AC4BA\", fname=fname1)"
   ]
  },
  {
   "cell_type": "code",
   "execution_count": null,
   "id": "7aa781d2-d2f7-4daa-a2f0-2790872988b1",
   "metadata": {},
   "outputs": [],
   "source": [
    "#tb.plot_pdf_ccdf(G, sep=True, Pcolor=\"#FF7A72\", Ccolor=\"#6AC4BA\")\n",
    "tb.plot_pdf_ccdf(G, sep=True, Pcolor=\"#FF7A72\", Ccolor=\"#6AC4BA\", fname=fname2)"
   ]
  },
  {
   "cell_type": "code",
   "execution_count": 10,
   "id": "726e8862-6aa4-42ad-8948-88b641f0d5aa",
   "metadata": {},
   "outputs": [],
   "source": [
    "# Save modified aam for statistical test\n",
    "nx.write_graphml(G, f'../data/graph_data/{tag}/modified/{hashtag}_{timespan}_{tau}_mdaam.graphml', encoding='utf-8')"
   ]
  }
 ],
 "metadata": {
  "kernelspec": {
   "display_name": "Python 3 (ipykernel)",
   "language": "python",
   "name": "python3"
  },
  "language_info": {
   "codemirror_mode": {
    "name": "ipython",
    "version": 3
   },
   "file_extension": ".py",
   "mimetype": "text/x-python",
   "name": "python",
   "nbconvert_exporter": "python",
   "pygments_lexer": "ipython3",
   "version": "3.10.0"
  },
  "vscode": {
   "interpreter": {
    "hash": "dda1c080d881ff594d995f106008b7b4867f02a791aada0a67430868a128f4a2"
   }
  }
 },
 "nbformat": 4,
 "nbformat_minor": 5
}

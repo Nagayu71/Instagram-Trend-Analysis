{
 "cells": [
  {
   "cell_type": "markdown",
   "id": "0640ec80-2088-4f0f-b164-10adcbccdcce",
   "metadata": {},
   "source": [
    "## The purpose of this file\n",
    "See how well the maximum likelihood estimation works by comparing actual values and theoretical values.\n",
    "\n",
    "The matrix $LP$ containing the Linking Probability of nodes $i$ and $j$ is defined as follows:\n",
    "$$\n",
    "LP=\n",
    "\\begin{pmatrix}\n",
    "0&p_{12}&p_{13}&\\dots&p_{1N} \\\\\n",
    "p_{21}&0&p_{23}&\\dots&p_{2N} \\\\\n",
    "p_{31}&p_{32}&0&\\dots&p_{3N} \\\\\n",
    "\\vdots&\\vdots&\\vdots&\\ddots&\\vdots \\\\\n",
    "p_{N1}&p_{N2}&p_{N3}&\\dots&0 \\\\\n",
    "\\end{pmatrix}\n",
    "$$\n",
    "The expected number of total number of interactions $m_{ij}$ between nodes $i$ and $j$ during the whole period $T$ ($\\tau$ snapshots) is\n",
    "$$\n",
    "\\tau LP=\n",
    "\\tau\n",
    "\\begin{pmatrix}\n",
    "0&p_{12}&p_{13}&\\dots&p_{1N} \\\\\n",
    "p_{21}&0&p_{23}&\\dots&p_{2N} \\\\\n",
    "p_{31}&p_{32}&0&\\dots&p_{3N} \\\\\n",
    "\\vdots&\\vdots&\\vdots&\\ddots&\\vdots \\\\\n",
    "p_{N1}&p_{N2}&p_{N3}&\\dots&0 \\\\\n",
    "\\end{pmatrix}\n",
    "$$"
   ]
  },
  {
   "cell_type": "code",
   "execution_count": 1,
   "id": "eedb3bcb-e7c3-4ce1-8fdc-efb536b59591",
   "metadata": {},
   "outputs": [],
   "source": [
    "import sys\n",
    "sys.path.append('../')\n",
    "import numpy as np\n",
    "import pandas as pd\n",
    "import networkx as nx\n",
    "import toolbox as tb"
   ]
  },
  {
   "cell_type": "code",
   "execution_count": 2,
   "id": "f57984ed-f8a5-4167-8bdd-a48df2e3f9dc",
   "metadata": {},
   "outputs": [
    {
     "name": "stdout",
     "output_type": "stream",
     "text": [
      "../data/graph_data/sweets/modified/スイーツ_22-22_32_mdaam.graphml\n",
      "../data/ML_estimate/sweets/22-22_32_krylov.npy\n"
     ]
    }
   ],
   "source": [
    "tag = \"sweets\"\n",
    "hashtag = \"スイーツ\" # This variable is necessary for data processing in the module 'toolbox'.\n",
    "timespan = \"22-22\"\n",
    "tau = 32\n",
    "Gpath = f'../data/graph_data/{tag}/modified/{hashtag}_{timespan}_{tau}_mdaam.graphml'\n",
    "Epath = f'../data/ML_estimate/{tag}/{timespan}_{tau}_krylov.npy'\n",
    "print(Gpath + '\\n' + Epath)"
   ]
  },
  {
   "cell_type": "code",
   "execution_count": 3,
   "id": "4ccd8f01-0a62-43f2-b14d-7db4a8316b47",
   "metadata": {},
   "outputs": [],
   "source": [
    "G = nx.read_graphml(Gpath)\n",
    "aam = nx.to_numpy_array(G)\n",
    "emptau = np.sum(aam) / 2\n",
    "N = G.number_of_nodes()"
   ]
  },
  {
   "cell_type": "code",
   "execution_count": 4,
   "id": "62b13f4e-916b-44a4-8dea-5d811e33e5bf",
   "metadata": {},
   "outputs": [],
   "source": [
    "LP = tb.connection_probability(np.load(Epath))\n",
    "tauLP = np.sum(tau*LP) / 2"
   ]
  },
  {
   "cell_type": "code",
   "execution_count": 5,
   "id": "87acb35d-713f-4269-ad4b-1af34a111ceb",
   "metadata": {},
   "outputs": [
    {
     "data": {
      "text/plain": [
       "(169074.0, 168983.58439652313)"
      ]
     },
     "execution_count": 5,
     "metadata": {},
     "output_type": "execute_result"
    }
   ],
   "source": [
    "emptau, tauLP"
   ]
  },
  {
   "cell_type": "code",
   "execution_count": 6,
   "id": "ca5615b3-37b8-4361-941a-9a5ecd471bb1",
   "metadata": {},
   "outputs": [
    {
     "name": "stdout",
     "output_type": "stream",
     "text": [
      "../data/goodness_of_fit/sweets_22-22_32.pkl\n"
     ]
    },
    {
     "data": {
      "text/html": [
       "<div>\n",
       "<style scoped>\n",
       "    .dataframe tbody tr th:only-of-type {\n",
       "        vertical-align: middle;\n",
       "    }\n",
       "\n",
       "    .dataframe tbody tr th {\n",
       "        vertical-align: top;\n",
       "    }\n",
       "\n",
       "    .dataframe thead th {\n",
       "        text-align: right;\n",
       "    }\n",
       "</style>\n",
       "<table border=\"1\" class=\"dataframe\">\n",
       "  <thead>\n",
       "    <tr style=\"text-align: right;\">\n",
       "      <th></th>\n",
       "      <th>hashtag</th>\n",
       "      <th>N</th>\n",
       "      <th>tau</th>\n",
       "      <th>actual</th>\n",
       "      <th>theoretical</th>\n",
       "    </tr>\n",
       "  </thead>\n",
       "  <tbody>\n",
       "    <tr>\n",
       "      <th>0</th>\n",
       "      <td>スイーツ</td>\n",
       "      <td>9027</td>\n",
       "      <td>32</td>\n",
       "      <td>169074.0</td>\n",
       "      <td>168983.584397</td>\n",
       "    </tr>\n",
       "  </tbody>\n",
       "</table>\n",
       "</div>"
      ],
      "text/plain": [
       "  hashtag     N  tau    actual    theoretical\n",
       "0    スイーツ  9027   32  169074.0  168983.584397"
      ]
     },
     "execution_count": 6,
     "metadata": {},
     "output_type": "execute_result"
    }
   ],
   "source": [
    "fname = f'../data/goodness_of_fit/{tag}_{timespan}_{tau}.pkl'\n",
    "fit = pd.DataFrame({\"hashtag\":hashtag, \"N\":N, \"tau\":tau, \"actual\":emptau, \"theoretical\":tauLP}, index=[0])\n",
    "fit.to_pickle(fname)\n",
    "print(fname)\n",
    "fit"
   ]
  }
 ],
 "metadata": {
  "kernelspec": {
   "display_name": "Python 3 (ipykernel)",
   "language": "python",
   "name": "python3"
  },
  "language_info": {
   "codemirror_mode": {
    "name": "ipython",
    "version": 3
   },
   "file_extension": ".py",
   "mimetype": "text/x-python",
   "name": "python",
   "nbconvert_exporter": "python",
   "pygments_lexer": "ipython3",
   "version": "3.10.0"
  }
 },
 "nbformat": 4,
 "nbformat_minor": 5
}

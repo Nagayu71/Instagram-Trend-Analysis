{
 "cells": [
  {
   "cell_type": "markdown",
   "id": "5be6ef76-c3e3-4d93-8b02-37ffbdd0ab78",
   "metadata": {},
   "source": [
    "## The purpose of this file\n",
    "See how well the maximum likelihood estimation works by comparing actual values and theoretical values. The data have already obtained in each working directory. Here, just plot the actual values and theoretical values of the number of interactions and check if the estimation works well."
   ]
  },
  {
   "cell_type": "code",
   "execution_count": null,
   "id": "d9aeea5f-c396-4747-a754-2b07a0a8608b",
   "metadata": {},
   "outputs": [],
   "source": [
    "import pandas as pd\n",
    "import matplotlib.pyplot as plt\n",
    "import seaborn as sns\n",
    "import pathlib\n",
    "%matplotlib inline"
   ]
  },
  {
   "cell_type": "code",
   "execution_count": 1,
   "id": "4c4650da-7fbe-4d05-9bb8-03f5b46482dc",
   "metadata": {},
   "outputs": [],
   "source": [
    "import pathlib"
   ]
  },
  {
   "cell_type": "code",
   "execution_count": 5,
   "id": "3c223fe7-8381-4e71-8546-952a907ac8d6",
   "metadata": {},
   "outputs": [
    {
     "data": {
      "text/plain": [
       "['data\\\\goodness_of_fit\\\\campaign_21-22_90.pkl',\n",
       " 'data\\\\goodness_of_fit\\\\explore_hiroshima_21-29_235.pkl',\n",
       " 'data\\\\goodness_of_fit\\\\hiroshima_jpn_21-29_227.pkl',\n",
       " 'data\\\\goodness_of_fit\\\\hiroshima_jpn_21-29_454.pkl',\n",
       " 'data\\\\goodness_of_fit\\\\kansairyoko_21-29_222.pkl',\n",
       " 'data\\\\goodness_of_fit\\\\kobe_23-23_43.pkl',\n",
       " 'data\\\\goodness_of_fit\\\\shinkaimakoto_21-29_213.pkl',\n",
       " 'data\\\\goodness_of_fit\\\\sweets_22-22_32.pkl',\n",
       " 'data\\\\goodness_of_fit\\\\universitylife_21-23_66.pkl']"
      ]
     },
     "execution_count": 5,
     "metadata": {},
     "output_type": "execute_result"
    }
   ],
   "source": [
    "p_temp = pathlib.Path('./data/goodness_of_fit')\n",
    "paths = [str(p) for p in list(p_temp.glob('*.pkl'))]\n",
    "\n",
    "'''\n",
    "\n",
    "for fp in paths:\n",
    "    \n",
    "taupath\n",
    "'''\n",
    "paths"
   ]
  }
 ],
 "metadata": {
  "kernelspec": {
   "display_name": "Python 3 (ipykernel)",
   "language": "python",
   "name": "python3"
  },
  "language_info": {
   "codemirror_mode": {
    "name": "ipython",
    "version": 3
   },
   "file_extension": ".py",
   "mimetype": "text/x-python",
   "name": "python",
   "nbconvert_exporter": "python",
   "pygments_lexer": "ipython3",
   "version": "3.10.0 (tags/v3.10.0:b494f59, Oct  4 2021, 19:00:18) [MSC v.1929 64 bit (AMD64)]"
  },
  "vscode": {
   "interpreter": {
    "hash": "dda1c080d881ff594d995f106008b7b4867f02a791aada0a67430868a128f4a2"
   }
  }
 },
 "nbformat": 4,
 "nbformat_minor": 5
}

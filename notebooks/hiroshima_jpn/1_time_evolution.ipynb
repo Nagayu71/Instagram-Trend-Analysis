{
 "cells": [
  {
   "cell_type": "markdown",
   "id": "05d4cac5-880c-4b89-b9b6-7087d103fc2a",
   "metadata": {},
   "source": [
    "## The purpose of this file\n",
    "Delve into time evolving network constructed from hashtag search on \"ええじゃろ広島の秋2022\"."
   ]
  },
  {
   "cell_type": "code",
   "execution_count": null,
   "id": "f8ef35e2-d802-42f5-b576-bc11e33df6a5",
   "metadata": {},
   "outputs": [],
   "source": [
    "import sys\n",
    "sys.path.append('../')\n",
    "import pandas as pd\n",
    "import numpy as np\n",
    "import toolbox as tb\n",
    "%matplotlib inline"
   ]
  },
  {
   "cell_type": "code",
   "execution_count": null,
   "id": "561f98e1-50f7-4069-864d-2905a266d540",
   "metadata": {},
   "outputs": [],
   "source": [
    "tag = \"hiroshima_jpn\"\n",
    "hashtag = \"ええじゃろ広島の秋2022\" # This variable is necessary for data processing in the module 'toolbox'.\n",
    "timespan = \"21-29\"\n",
    "file = f\"../data/datasets/{tag}/{tag}_{timespan}.pkl\"\n",
    "df = tb.get_dataframe(hashtag, file)"
   ]
  },
  {
   "cell_type": "code",
   "execution_count": null,
   "id": "9bc5acab-fd63-4ad1-81c9-30d2911f6185",
   "metadata": {},
   "outputs": [],
   "source": [
    "#tau, snapshots = tb.get_snapshots_closed_intervals(df, 'hours=1')\n",
    "tau, snapshots = tb.get_snapshots_closed_intervals(df, 'minutes=30')\n",
    "print(f\"tau = {tau}\")"
   ]
  },
  {
   "cell_type": "code",
   "execution_count": null,
   "id": "95189199-c4ea-461a-8d25-9f9be8e95008",
   "metadata": {},
   "outputs": [],
   "source": [
    "N, L = tb.evolution_of_network(df,tau, snapshots)"
   ]
  },
  {
   "cell_type": "code",
   "execution_count": null,
   "id": "6fefa865-aa3c-4435-8c4a-b4c98ca2a20f",
   "metadata": {},
   "outputs": [],
   "source": [
    "# Calculate average degree <k>\n",
    "k_braket = []\n",
    "for n, l in zip(N, L):\n",
    "    k_braket.append(2*l / n)"
   ]
  },
  {
   "cell_type": "code",
   "execution_count": null,
   "id": "65976a28-5d50-4374-b5cd-417fb5d0f539",
   "metadata": {},
   "outputs": [],
   "source": [
    "df = pd.DataFrame({\"tau\": np.arange(1, tau+1), \"N\": N, \"L\": L, \"<k>\": k_braket})\n",
    "df.to_pickle(f'../data/time_evolution/{tag}/time-evolution_{timespan}_{tau}.pkl')\n",
    "df.head()"
   ]
  },
  {
   "cell_type": "code",
   "execution_count": null,
   "id": "31d6023c-6b01-442d-92a4-815b77b26305",
   "metadata": {},
   "outputs": [],
   "source": [
    "fname = f\"../data/figure/time_evolution/time-evolution_{tag}_{timespan}_{tau}.pdf\"\n",
    "tb.plot_time_evolution(df, ncolor=\"#FF7A72\", lcolor=\"#69B3A2\", fname=fname)"
   ]
  }
 ],
 "metadata": {
  "kernelspec": {
   "display_name": "Python 3 (ipykernel)",
   "language": "python",
   "name": "python3"
  },
  "language_info": {
   "codemirror_mode": {
    "name": "ipython",
    "version": 3
   },
   "file_extension": ".py",
   "mimetype": "text/x-python",
   "name": "python",
   "nbconvert_exporter": "python",
   "pygments_lexer": "ipython3",
   "version": "3.10.0"
  },
  "vscode": {
   "interpreter": {
    "hash": "dda1c080d881ff594d995f106008b7b4867f02a791aada0a67430868a128f4a2"
   }
  }
 },
 "nbformat": 4,
 "nbformat_minor": 5
}

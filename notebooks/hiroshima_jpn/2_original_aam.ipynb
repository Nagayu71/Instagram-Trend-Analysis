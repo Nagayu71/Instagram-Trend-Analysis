{
 "cells": [
  {
   "cell_type": "markdown",
   "id": "05d4cac5-880c-4b89-b9b6-7087d103fc2a",
   "metadata": {},
   "source": [
    "## The purpose of this file\n",
    "Make an aggregate adjacency matrix and save it.\n",
    "> Be sure to add $\\tau$ (the number of snapshots you make) to the filename."
   ]
  },
  {
   "cell_type": "code",
   "execution_count": null,
   "id": "f8ef35e2-d802-42f5-b576-bc11e33df6a5",
   "metadata": {},
   "outputs": [],
   "source": [
    "import sys\n",
    "sys.path.append('../')\n",
    "import powerlaw\n",
    "import pandas as pd\n",
    "import networkx as nx\n",
    "import toolbox as tb\n",
    "%matplotlib inline"
   ]
  },
  {
   "cell_type": "code",
   "execution_count": null,
   "id": "561f98e1-50f7-4069-864d-2905a266d540",
   "metadata": {},
   "outputs": [],
   "source": [
    "tag = \"hiroshima_jpn\"\n",
    "hashtag = \"ええじゃろ広島の秋2022\" # This variable is necessary for data processing in the module 'toolbox'.\n",
    "timespan = \"21-29\"\n",
    "file = f\"../data/datasets/{tag}/{tag}_{timespan}.pkl\"\n",
    "df = tb.get_dataframe(hashtag, file)"
   ]
  },
  {
   "cell_type": "code",
   "execution_count": null,
   "id": "9bc5acab-fd63-4ad1-81c9-30d2911f6185",
   "metadata": {},
   "outputs": [],
   "source": [
    "#tau, snapshots = tb.get_snapshots_closed_intervals(df, 'minutes=30')\n",
    "tau, snapshots = tb.get_snapshots_closed_intervals(df, 'hours=1')\n",
    "print(f\"tau = {tau}\")"
   ]
  },
  {
   "cell_type": "code",
   "execution_count": null,
   "id": "734b0d38-aac4-496b-b096-de11cae579b9",
   "metadata": {},
   "outputs": [],
   "source": [
    "edgelst_of_snapshots = tb.get_edgelist_of_eachsnapshot(df,tau, snapshots)\n",
    "filename = f'../data/graph_data/{tag}/original/{hashtag}_{timespan}_{tau}_aam'\n",
    "print(filename)\n",
    "G = tb.make_aggregate_adjacency_matrix(edgelst_of_snapshots, fname=filename)\n",
    "#G = tb.make_aggregate_adjacency_matrix(edgelst_of_snapshots)"
   ]
  },
  {
   "cell_type": "code",
   "execution_count": null,
   "id": "ba087890-f7e7-49a4-85a9-cd64861e60fb",
   "metadata": {},
   "outputs": [],
   "source": []
  },
  {
   "cell_type": "code",
   "execution_count": null,
   "id": "dec02cc2-d022-4505-835c-c9bb855edb76",
   "metadata": {},
   "outputs": [],
   "source": []
  },
  {
   "cell_type": "code",
   "execution_count": null,
   "id": "36d013b4-3cfe-4278-a827-87f586f65379",
   "metadata": {},
   "outputs": [],
   "source": [
    "tb.check_degree(G)"
   ]
  },
  {
   "cell_type": "code",
   "execution_count": null,
   "id": "b01c4209-2c60-41e8-8a77-9dce415b0fb9",
   "metadata": {},
   "outputs": [],
   "source": [
    "tb.plot_dd(G, 20)"
   ]
  },
  {
   "cell_type": "code",
   "execution_count": null,
   "id": "dd337aff-84d3-4ca7-aca2-12e17b7fdd61",
   "metadata": {},
   "outputs": [],
   "source": [
    "tb.fit_power_law(G)"
   ]
  },
  {
   "cell_type": "code",
   "execution_count": null,
   "id": "41b3f2b2-5867-42d3-9adf-9d8446e75f29",
   "metadata": {},
   "outputs": [],
   "source": [
    "tb.compare_distribution(G,\"power_law\", \"exponential\")"
   ]
  },
  {
   "cell_type": "code",
   "execution_count": null,
   "id": "c7c19c6a-4ec5-4742-ad61-ce3b840b3251",
   "metadata": {},
   "outputs": [],
   "source": [
    "tb.compare_distribution(G,\"power_law\", \"lognormal\")"
   ]
  },
  {
   "cell_type": "code",
   "execution_count": null,
   "id": "80222bbe-976c-4bdf-b481-662349fcea0d",
   "metadata": {},
   "outputs": [],
   "source": [
    "tb.plot_pdf_ccdf(G, Pcolor=\"#FF7A72\", Ccolor=\"#6AC4BA\")"
   ]
  }
 ],
 "metadata": {
  "kernelspec": {
   "display_name": "Python 3 (ipykernel)",
   "language": "python",
   "name": "python3"
  },
  "language_info": {
   "codemirror_mode": {
    "name": "ipython",
    "version": 3
   },
   "file_extension": ".py",
   "mimetype": "text/x-python",
   "name": "python",
   "nbconvert_exporter": "python",
   "pygments_lexer": "ipython3",
   "version": "3.10.0"
  },
  "vscode": {
   "interpreter": {
    "hash": "dda1c080d881ff594d995f106008b7b4867f02a791aada0a67430868a128f4a2"
   }
  }
 },
 "nbformat": 4,
 "nbformat_minor": 5
}

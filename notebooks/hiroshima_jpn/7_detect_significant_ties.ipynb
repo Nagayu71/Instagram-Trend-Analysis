{
 "cells": [
  {
   "cell_type": "markdown",
   "id": "c530ceb4-cc70-4556-8641-f4d690ce1ce5",
   "metadata": {},
   "source": [
    "## The purpose of this file\n",
    "Detect the significant ties, or backbone, and save it in graphml format."
   ]
  },
  {
   "cell_type": "code",
   "execution_count": null,
   "id": "3504b359-7d1b-41b1-8e97-cf64fc063b6b",
   "metadata": {},
   "outputs": [],
   "source": [
    "import sys\n",
    "sys.path.append('../')\n",
    "import numpy as np\n",
    "import pandas as pd\n",
    "import networkx as nx\n",
    "import toolbox as tb"
   ]
  },
  {
   "cell_type": "code",
   "execution_count": null,
   "id": "a0ed8cca-f810-4db9-946b-e26f3d8bddf2",
   "metadata": {},
   "outputs": [],
   "source": [
    "tag = \"hiroshima_jpn\"\n",
    "hashtag = \"ええじゃろ広島の秋2022\" \n",
    "timespan = \"21-29\"\n",
    "tau = 227\n",
    "G = nx.read_graphml(f'../data/graph_data/{tag}/modified/{hashtag}_{timespan}_{tau}_mdaam.graphml')"
   ]
  },
  {
   "cell_type": "code",
   "execution_count": null,
   "id": "0063c937-a301-4212-b6b8-9ff55baa195b",
   "metadata": {},
   "outputs": [],
   "source": [
    "hashtags = list(G.nodes())\n",
    "ST = tb.STdetection(G, tau, f'../data/ML_estimate/{tag}/{timespan}_{tau}_krylov.npy')"
   ]
  },
  {
   "cell_type": "code",
   "execution_count": null,
   "id": "4c5c28e9-6352-4a80-bb0b-ae95947ddbab",
   "metadata": {},
   "outputs": [],
   "source": [
    "ST.estimate.shape[0] == len(hashtags)\n",
    "hashtags == ST.nodelist"
   ]
  },
  {
   "cell_type": "code",
   "execution_count": null,
   "id": "2563284c-277c-47ec-99fa-d0e77dadc6bd",
   "metadata": {},
   "outputs": [],
   "source": [
    "%%time\n",
    "fname=f\"../data/figure/ratioST/ratioST_{tag}_{timespan}_{tau}.pdf\"\n",
    "print(fname)\n",
    "#ST.show_ratio_ST(fname=fname)\n",
    "ST.show_ratio_ST(ST_col='#b3bfd1', Normal_col='#d7e1ee', fname=fname)"
   ]
  },
  {
   "cell_type": "code",
   "execution_count": null,
   "id": "59389341-6950-4489-b6f5-4611e007d2a0",
   "metadata": {},
   "outputs": [],
   "source": [
    "%%time\n",
    "fname = f'../data/graph_data/{tag}/backbone/{hashtag}_{timespan}_{tau}_backbone'\n",
    "result = ST.turn_graph(fname=fname)"
   ]
  },
  {
   "cell_type": "code",
   "execution_count": null,
   "id": "c0150951-f902-49be-abe2-1463301e0ad1",
   "metadata": {},
   "outputs": [],
   "source": [
    "result"
   ]
  },
  {
   "cell_type": "code",
   "execution_count": null,
   "id": "0f224dbc-396f-4e71-ab8a-6a7448df59a6",
   "metadata": {},
   "outputs": [],
   "source": [
    "B001, B0001 = result[0], result[-1]"
   ]
  },
  {
   "cell_type": "code",
   "execution_count": null,
   "id": "f37dc6c7-f3c5-4755-a0e4-1e4f8eb4c9c8",
   "metadata": {},
   "outputs": [],
   "source": [
    "B001.number_of_nodes(), B001.number_of_edges()"
   ]
  },
  {
   "cell_type": "code",
   "execution_count": null,
   "id": "c2629d81-4c5d-4707-ad2a-062564e5d8ca",
   "metadata": {},
   "outputs": [],
   "source": [
    "B0001.number_of_nodes(), B0001.number_of_edges()"
   ]
  },
  {
   "cell_type": "code",
   "execution_count": null,
   "id": "c5b41a88-78d6-4c1d-ada7-46d887f809cc",
   "metadata": {},
   "outputs": [],
   "source": [
    "B0001.number_of_edges() / G.number_of_edges(), B0001.number_of_edges(), G.number_of_edges()"
   ]
  }
 ],
 "metadata": {
  "kernelspec": {
   "display_name": "Python 3 (ipykernel)",
   "language": "python",
   "name": "python3"
  },
  "language_info": {
   "codemirror_mode": {
    "name": "ipython",
    "version": 3
   },
   "file_extension": ".py",
   "mimetype": "text/x-python",
   "name": "python",
   "nbconvert_exporter": "python",
   "pygments_lexer": "ipython3",
   "version": "3.11.0"
  },
  "vscode": {
   "interpreter": {
    "hash": "dda1c080d881ff594d995f106008b7b4867f02a791aada0a67430868a128f4a2"
   }
  }
 },
 "nbformat": 4,
 "nbformat_minor": 5
}

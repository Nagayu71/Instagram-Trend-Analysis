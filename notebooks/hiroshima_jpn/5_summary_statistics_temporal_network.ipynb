{
 "cells": [
  {
   "cell_type": "markdown",
   "id": "c698c767-80f8-4a61-aca7-993b02d54d11",
   "metadata": {},
   "source": [
    "## The purpose of this file\n",
    "Make summary statistics of temporal network and save it.<br>The output dataframe has eight colums like this:<br>\n",
    "|  | $\\tau$ | $\\Delta$ | $\\overline{N}$ | $N_{min}$ | $N_{max}$ | $\\overline{L}$ | $L_{min}$ | $L_{max}$ | $\\overline{<k>}$ |\n",
    "|--|:-------|:---------|----------------|-----------|-----------|----------------|-----------|-----------|-------------------------|\n",
    "| hashtag|  |          |                |           |           |                |           |           |                         |"
   ]
  },
  {
   "cell_type": "code",
   "execution_count": 6,
   "id": "f34c0030-68e2-41f4-9344-edf2eeb2c9e4",
   "metadata": {},
   "outputs": [],
   "source": [
    "import sys\n",
    "sys.path.append('../')\n",
    "import toolbox as tb\n",
    "import pandas as pd\n",
    "import numpy as np"
   ]
  },
  {
   "cell_type": "code",
   "execution_count": 7,
   "id": "0a4eef77-0c79-4791-9937-c75eebff9c23",
   "metadata": {},
   "outputs": [
    {
     "data": {
      "text/html": [
       "<div>\n",
       "<style scoped>\n",
       "    .dataframe tbody tr th:only-of-type {\n",
       "        vertical-align: middle;\n",
       "    }\n",
       "\n",
       "    .dataframe tbody tr th {\n",
       "        vertical-align: top;\n",
       "    }\n",
       "\n",
       "    .dataframe thead th {\n",
       "        text-align: right;\n",
       "    }\n",
       "</style>\n",
       "<table border=\"1\" class=\"dataframe\">\n",
       "  <thead>\n",
       "    <tr style=\"text-align: right;\">\n",
       "      <th></th>\n",
       "      <th>tau</th>\n",
       "      <th>N</th>\n",
       "      <th>L</th>\n",
       "      <th>&lt;k&gt;</th>\n",
       "    </tr>\n",
       "  </thead>\n",
       "  <tbody>\n",
       "    <tr>\n",
       "      <th>0</th>\n",
       "      <td>1</td>\n",
       "      <td>140</td>\n",
       "      <td>1885</td>\n",
       "      <td>26.928571</td>\n",
       "    </tr>\n",
       "    <tr>\n",
       "      <th>1</th>\n",
       "      <td>2</td>\n",
       "      <td>235</td>\n",
       "      <td>3532</td>\n",
       "      <td>30.059574</td>\n",
       "    </tr>\n",
       "    <tr>\n",
       "      <th>2</th>\n",
       "      <td>3</td>\n",
       "      <td>242</td>\n",
       "      <td>3567</td>\n",
       "      <td>29.479339</td>\n",
       "    </tr>\n",
       "    <tr>\n",
       "      <th>3</th>\n",
       "      <td>4</td>\n",
       "      <td>307</td>\n",
       "      <td>4434</td>\n",
       "      <td>28.885993</td>\n",
       "    </tr>\n",
       "    <tr>\n",
       "      <th>4</th>\n",
       "      <td>5</td>\n",
       "      <td>339</td>\n",
       "      <td>5038</td>\n",
       "      <td>29.722714</td>\n",
       "    </tr>\n",
       "  </tbody>\n",
       "</table>\n",
       "</div>"
      ],
      "text/plain": [
       "   tau    N     L        <k>\n",
       "0    1  140  1885  26.928571\n",
       "1    2  235  3532  30.059574\n",
       "2    3  242  3567  29.479339\n",
       "3    4  307  4434  28.885993\n",
       "4    5  339  5038  29.722714"
      ]
     },
     "execution_count": 7,
     "metadata": {},
     "output_type": "execute_result"
    }
   ],
   "source": [
    "tag = \"hiroshima_jpn\"\n",
    "hashtag = \"ええじゃろ広島の秋2022\" # This variable is necessary for data processing in the module 'toolbox'.\n",
    "timespan = \"21-29\"\n",
    "#delta = \"30 minutes\"\n",
    "delta = \"1 hour\"\n",
    "tau = 227\n",
    "df = pd.read_pickle(f'../data/time_evolution/{tag}/time-evolution_{timespan}_{tau}.pkl')\n",
    "df.head()"
   ]
  },
  {
   "cell_type": "code",
   "execution_count": 8,
   "id": "a071230b-f943-41a8-8c82-9310fa9a119e",
   "metadata": {},
   "outputs": [],
   "source": [
    "N_min, N_max, N_ave = np.min(df[\"N\"]), np.max(df[\"N\"]), np.round(np.mean(df[\"N\"]), decimals=2)\n",
    "L_min, L_max, L_ave = np.min(df[\"L\"]), np.max(df[\"L\"]), np.round(np.mean(df[\"L\"]), decimals=2)\n",
    "ave_k_braket = np.round(np.mean(df[\"<k>\"]), decimals=2)"
   ]
  },
  {
   "cell_type": "code",
   "execution_count": 9,
   "id": "6c3b0a95-3d86-4339-b0b4-12d142083451",
   "metadata": {},
   "outputs": [
    {
     "data": {
      "text/html": [
       "<div>\n",
       "<style scoped>\n",
       "    .dataframe tbody tr th:only-of-type {\n",
       "        vertical-align: middle;\n",
       "    }\n",
       "\n",
       "    .dataframe tbody tr th {\n",
       "        vertical-align: top;\n",
       "    }\n",
       "\n",
       "    .dataframe thead th {\n",
       "        text-align: right;\n",
       "    }\n",
       "</style>\n",
       "<table border=\"1\" class=\"dataframe\">\n",
       "  <thead>\n",
       "    <tr style=\"text-align: right;\">\n",
       "      <th></th>\n",
       "      <th>tau</th>\n",
       "      <th>delta</th>\n",
       "      <th>N_ave</th>\n",
       "      <th>N_min</th>\n",
       "      <th>N_max</th>\n",
       "      <th>L_ave</th>\n",
       "      <th>L_min</th>\n",
       "      <th>L_max</th>\n",
       "      <th>overline&lt;k&gt;</th>\n",
       "    </tr>\n",
       "  </thead>\n",
       "  <tbody>\n",
       "    <tr>\n",
       "      <th>ええじゃろ広島の秋2022</th>\n",
       "      <td>227</td>\n",
       "      <td>1 hour</td>\n",
       "      <td>2189.26</td>\n",
       "      <td>140</td>\n",
       "      <td>3394</td>\n",
       "      <td>48812.95</td>\n",
       "      <td>1885</td>\n",
       "      <td>78437</td>\n",
       "      <td>43.38</td>\n",
       "    </tr>\n",
       "  </tbody>\n",
       "</table>\n",
       "</div>"
      ],
      "text/plain": [
       "               tau   delta    N_ave  N_min  N_max     L_ave  L_min  L_max  \\\n",
       "ええじゃろ広島の秋2022  227  1 hour  2189.26    140   3394  48812.95   1885  78437   \n",
       "\n",
       "               overline<k>  \n",
       "ええじゃろ広島の秋2022        43.38  "
      ]
     },
     "execution_count": 9,
     "metadata": {},
     "output_type": "execute_result"
    }
   ],
   "source": [
    "fname = f'../data/temporal_network_summary_statistics/{tag}/sstn_{timespan}_{tau}.pkl'\n",
    "statistics = pd.DataFrame({\"tau\":tau, \"delta\":delta, \"N_ave\":N_ave, \"N_min\":N_min, \"N_max\":N_max, \"L_ave\":L_ave, \"L_min\":L_min, \"L_max\":L_max,\"overline<k>\": ave_k_braket}, index=[hashtag])\n",
    "statistics.to_pickle(fname)\n",
    "print(fname)\n",
    "statistics"
   ]
  }
 ],
 "metadata": {
  "kernelspec": {
   "display_name": "Python 3 (ipykernel)",
   "language": "python",
   "name": "python3"
  },
  "language_info": {
   "codemirror_mode": {
    "name": "ipython",
    "version": 3
   },
   "file_extension": ".py",
   "mimetype": "text/x-python",
   "name": "python",
   "nbconvert_exporter": "python",
   "pygments_lexer": "ipython3",
   "version": "3.10.0"
  },
  "vscode": {
   "interpreter": {
    "hash": "dda1c080d881ff594d995f106008b7b4867f02a791aada0a67430868a128f4a2"
   }
  }
 },
 "nbformat": 4,
 "nbformat_minor": 5
}

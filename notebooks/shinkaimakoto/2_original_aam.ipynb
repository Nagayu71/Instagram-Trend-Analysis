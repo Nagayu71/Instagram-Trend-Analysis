{
 "cells": [
  {
   "cell_type": "markdown",
   "id": "05d4cac5-880c-4b89-b9b6-7087d103fc2a",
   "metadata": {},
   "source": [
    "## The purpose of this file\n",
    "Make an aggregate adjacency matrix and save it.\n",
    "> Be sure to add $\\tau$ (the number of snapshots you make) to the filename."
   ]
  },
  {
   "cell_type": "code",
   "execution_count": 1,
   "id": "f8ef35e2-d802-42f5-b576-bc11e33df6a5",
   "metadata": {},
   "outputs": [],
   "source": [
    "import sys\n",
    "sys.path.append('../')\n",
    "import powerlaw\n",
    "import pandas as pd\n",
    "import networkx as nx\n",
    "import toolbox as tb\n",
    "%matplotlib inline"
   ]
  },
  {
   "cell_type": "code",
   "execution_count": 2,
   "id": "561f98e1-50f7-4069-864d-2905a266d540",
   "metadata": {},
   "outputs": [],
   "source": [
    "tag = \"shinkaimakoto\"\n",
    "hashtag = \"新海誠\"\n",
    "timespan = \"21-29\"\n",
    "file = f\"../data/datasets/{tag}/{tag}_{timespan}.pkl\"\n",
    "df = tb.get_dataframe(hashtag, file)"
   ]
  },
  {
   "cell_type": "markdown",
   "id": "b895a4f4-5a58-40ea-b2ff-92765835b369",
   "metadata": {},
   "source": [
    "start = \"2022-11-21T00:00+09:00\"\n",
    "end = \"2022-11-22T23:59+09:00\"\n",
    "timespan = \"21-22\"\n",
    "start = pd.to_datetime(start)\n",
    "end = pd.to_datetime(end)\n",
    "DF = df[(start <= df.index) & (df.index <= end)]"
   ]
  },
  {
   "cell_type": "code",
   "execution_count": 3,
   "id": "d1fde3c1-c803-414a-91d0-7a163f9e2042",
   "metadata": {},
   "outputs": [
    {
     "data": {
      "text/plain": [
       "(2841, 4)"
      ]
     },
     "execution_count": 3,
     "metadata": {},
     "output_type": "execute_result"
    }
   ],
   "source": [
    "DF = df.copy()\n",
    "DF.shape"
   ]
  },
  {
   "cell_type": "code",
   "execution_count": 4,
   "id": "9bc5acab-fd63-4ad1-81c9-30d2911f6185",
   "metadata": {},
   "outputs": [
    {
     "name": "stdout",
     "output_type": "stream",
     "text": [
      "tau = 855\n"
     ]
    }
   ],
   "source": [
    "#tau, snapshots = tb.get_snapshots_closed_intervals(DF, 'hours=1')\n",
    "tau, snapshots = tb.get_snapshots_closed_intervals(DF, 'minutes=15')\n",
    "print(f\"tau = {tau}\")"
   ]
  },
  {
   "cell_type": "code",
   "execution_count": 5,
   "id": "734b0d38-aac4-496b-b096-de11cae579b9",
   "metadata": {},
   "outputs": [
    {
     "name": "stdout",
     "output_type": "stream",
     "text": [
      "../data/graph_data/shinkaimakoto/original/新海誠_21-29_855_aam\n"
     ]
    }
   ],
   "source": [
    "edgelst_of_snapshots = tb.get_edgelist_of_eachsnapshot(df,tau, snapshots)\n",
    "filename = f'../data/graph_data/{tag}/original/{hashtag}_{timespan}_{tau}_aam'\n",
    "print(filename)\n",
    "G = tb.make_aggregate_adjacency_matrix(edgelst_of_snapshots, fname=filename)\n",
    "#G = tb.make_aggregate_adjacency_matrix(edgelst_of_snapshots)"
   ]
  },
  {
   "cell_type": "code",
   "execution_count": 12,
   "id": "ba087890-f7e7-49a4-85a9-cd64861e60fb",
   "metadata": {},
   "outputs": [
    {
     "data": {
      "text/plain": [
       "9208"
      ]
     },
     "execution_count": 12,
     "metadata": {},
     "output_type": "execute_result"
    }
   ],
   "source": [
    "G.number_of_nodes()"
   ]
  },
  {
   "cell_type": "code",
   "execution_count": null,
   "id": "dec02cc2-d022-4505-835c-c9bb855edb76",
   "metadata": {},
   "outputs": [],
   "source": []
  },
  {
   "cell_type": "code",
   "execution_count": 6,
   "id": "36d013b4-3cfe-4278-a827-87f586f65379",
   "metadata": {},
   "outputs": [
    {
     "name": "stdout",
     "output_type": "stream",
     "text": [
      "singleton:[]\n"
     ]
    },
    {
     "data": {
      "text/html": [
       "<div>\n",
       "<style scoped>\n",
       "    .dataframe tbody tr th:only-of-type {\n",
       "        vertical-align: middle;\n",
       "    }\n",
       "\n",
       "    .dataframe tbody tr th {\n",
       "        vertical-align: top;\n",
       "    }\n",
       "\n",
       "    .dataframe thead th {\n",
       "        text-align: right;\n",
       "    }\n",
       "</style>\n",
       "<table border=\"1\" class=\"dataframe\">\n",
       "  <thead>\n",
       "    <tr style=\"text-align: right;\">\n",
       "      <th></th>\n",
       "      <th>degree</th>\n",
       "    </tr>\n",
       "  </thead>\n",
       "  <tbody>\n",
       "    <tr>\n",
       "      <th>新海誠</th>\n",
       "      <td>9207</td>\n",
       "    </tr>\n",
       "    <tr>\n",
       "      <th>すずめの戸締まり</th>\n",
       "      <td>7086</td>\n",
       "    </tr>\n",
       "    <tr>\n",
       "      <th>映画</th>\n",
       "      <td>3855</td>\n",
       "    </tr>\n",
       "    <tr>\n",
       "      <th>映画鑑賞</th>\n",
       "      <td>1384</td>\n",
       "    </tr>\n",
       "    <tr>\n",
       "      <th>君の名は</th>\n",
       "      <td>1357</td>\n",
       "    </tr>\n",
       "    <tr>\n",
       "      <th>...</th>\n",
       "      <td>...</td>\n",
       "    </tr>\n",
       "    <tr>\n",
       "      <th>大人になるまですずめはカラスの子供だと思ってた人と繋がりたい</th>\n",
       "      <td>1</td>\n",
       "    </tr>\n",
       "    <tr>\n",
       "      <th>空模様</th>\n",
       "      <td>1</td>\n",
       "    </tr>\n",
       "    <tr>\n",
       "      <th>今を大切に</th>\n",
       "      <td>1</td>\n",
       "    </tr>\n",
       "    <tr>\n",
       "      <th>iameiga_天気の子</th>\n",
       "      <td>1</td>\n",
       "    </tr>\n",
       "    <tr>\n",
       "      <th>コレド室町</th>\n",
       "      <td>1</td>\n",
       "    </tr>\n",
       "  </tbody>\n",
       "</table>\n",
       "<p>9208 rows × 1 columns</p>\n",
       "</div>"
      ],
      "text/plain": [
       "                                degree\n",
       "新海誠                               9207\n",
       "すずめの戸締まり                          7086\n",
       "映画                                3855\n",
       "映画鑑賞                              1384\n",
       "君の名は                              1357\n",
       "...                                ...\n",
       "大人になるまですずめはカラスの子供だと思ってた人と繋がりたい       1\n",
       "空模様                                  1\n",
       "今を大切に                                1\n",
       "iameiga_天気の子                         1\n",
       "コレド室町                                1\n",
       "\n",
       "[9208 rows x 1 columns]"
      ]
     },
     "execution_count": 6,
     "metadata": {},
     "output_type": "execute_result"
    }
   ],
   "source": [
    "tb.check_degree(G)"
   ]
  },
  {
   "cell_type": "code",
   "execution_count": 7,
   "id": "b01c4209-2c60-41e8-8a77-9dce415b0fb9",
   "metadata": {},
   "outputs": [
    {
     "data": {
      "image/png": "[encoded data removed]",
      "text/plain": [
       "<Figure size 640x480 with 1 Axes>"
      ]
     },
     "metadata": {},
     "output_type": "display_data"
    }
   ],
   "source": [
    "tb.plot_dd(G, 20)"
   ]
  },
  {
   "cell_type": "code",
   "execution_count": 8,
   "id": "dd337aff-84d3-4ca7-aca2-12e17b7fdd61",
   "metadata": {},
   "outputs": [
    {
     "name": "stdout",
     "output_type": "stream",
     "text": [
      "Calculating best minimal value for power law fit\n",
      "------------------------------------------------\n",
      "the fitted parameter alpha: 2.544881468812118, \n",
      "its standard error sigma: 0.047316930247710345, \n",
      "k_min: 37.0\n"
     ]
    },
    {
     "data": {
      "text/plain": [
       "(2.544881468812118, 0.047316930247710345, 37.0)"
      ]
     },
     "execution_count": 8,
     "metadata": {},
     "output_type": "execute_result"
    }
   ],
   "source": [
    "tb.fit_power_law(G)"
   ]
  },
  {
   "cell_type": "code",
   "execution_count": 9,
   "id": "41b3f2b2-5867-42d3-9adf-9d8446e75f29",
   "metadata": {},
   "outputs": [
    {
     "name": "stdout",
     "output_type": "stream",
     "text": [
      "Calculating best minimal value for power law fit\n",
      "------------------------------------------------\n",
      "The power_law distribution outperforms exponential distribution with significance level 3.057940871386762e-05.\n"
     ]
    }
   ],
   "source": [
    "tb.compare_distribution(G,\"power_law\", \"exponential\")"
   ]
  },
  {
   "cell_type": "code",
   "execution_count": 10,
   "id": "4844a0a5-a844-44cb-8e7d-78c2a4521ec2",
   "metadata": {},
   "outputs": [
    {
     "name": "stdout",
     "output_type": "stream",
     "text": [
      "Calculating best minimal value for power law fit\n",
      "------------------------------------------------\n",
      "The lognormal distribution outperforms power_law distribution with significance level 0.1768520835159595.\n"
     ]
    },
    {
     "name": "stderr",
     "output_type": "stream",
     "text": [
      "C:\\Users\\yuki\\Desktop\\github\\Instagram-Trend-Analysis\\.venv\\lib\\site-packages\\powerlaw.py:1615: RuntimeWarning: invalid value encountered in divide\n",
      "  CDF = CDF/norm\n",
      "'nan' in fit cumulative distribution values.\n",
      "Likely underflow or overflow error: the optimal fit for this distribution gives values that are so extreme that we lack the numerical precision to calculate them.\n"
     ]
    }
   ],
   "source": [
    "tb.compare_distribution(G,\"power_law\", \"lognormal\")"
   ]
  },
  {
   "cell_type": "code",
   "execution_count": 11,
   "id": "80222bbe-976c-4bdf-b481-662349fcea0d",
   "metadata": {},
   "outputs": [
    {
     "name": "stdout",
     "output_type": "stream",
     "text": [
      "Calculating best minimal value for power law fit\n",
      "------------------------------------------------\n",
      "the fitted parameter alpha: 2.544881468812118, \n",
      "its standard error sigma: 0.047316930247710345, \n",
      "k_min: 37.0\n"
     ]
    },
    {
     "data": {
      "image/png": "[encoded data removed]",
      "text/plain": [
       "<Figure size 640x480 with 1 Axes>"
      ]
     },
     "metadata": {},
     "output_type": "display_data"
    }
   ],
   "source": [
    "tb.plot_pdf_ccdf(G, Pcolor=\"#FF7A72\", Ccolor=\"#6AC4BA\")"
   ]
  }
 ],
 "metadata": {
  "kernelspec": {
   "display_name": "Python 3 (ipykernel)",
   "language": "python",
   "name": "python3"
  },
  "language_info": {
   "codemirror_mode": {
    "name": "ipython",
    "version": 3
   },
   "file_extension": ".py",
   "mimetype": "text/x-python",
   "name": "python",
   "nbconvert_exporter": "python",
   "pygments_lexer": "ipython3",
   "version": "3.10.0"
  },
  "vscode": {
   "interpreter": {
    "hash": "dda1c080d881ff594d995f106008b7b4867f02a791aada0a67430868a128f4a2"
   }
  }
 },
 "nbformat": 4,
 "nbformat_minor": 5
}

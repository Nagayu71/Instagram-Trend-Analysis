{
 "cells": [
  {
   "cell_type": "markdown",
   "id": "05d4cac5-880c-4b89-b9b6-7087d103fc2a",
   "metadata": {},
   "source": [
    "## The purpose of this file\n",
    "Delve into time evolving network constructed from hashtag search on \"新海誠\"."
   ]
  },
  {
   "cell_type": "code",
   "execution_count": 1,
   "id": "f8ef35e2-d802-42f5-b576-bc11e33df6a5",
   "metadata": {},
   "outputs": [],
   "source": [
    "import sys\n",
    "sys.path.append('../')\n",
    "import pandas as pd\n",
    "import numpy as np\n",
    "import toolbox as tb\n",
    "%matplotlib inline"
   ]
  },
  {
   "cell_type": "code",
   "execution_count": 2,
   "id": "561f98e1-50f7-4069-864d-2905a266d540",
   "metadata": {},
   "outputs": [
    {
     "data": {
      "text/plain": [
       "(2841, 4)"
      ]
     },
     "execution_count": 2,
     "metadata": {},
     "output_type": "execute_result"
    }
   ],
   "source": [
    "tag = \"shinkaimakoto\"\n",
    "hashtag = \"新海誠\" # This variable is necessary for data processing in the module 'toolbox'.\n",
    "timespan = \"21-29\"\n",
    "file = f\"../data/datasets/{tag}/{tag}_{timespan}.pkl\"\n",
    "df = tb.get_dataframe(hashtag, file)\n",
    "df.shape"
   ]
  },
  {
   "cell_type": "code",
   "execution_count": 3,
   "id": "1c018e49-29aa-4ed4-b589-803be0c769b2",
   "metadata": {},
   "outputs": [
    {
     "data": {
      "text/plain": [
       "(Timestamp('2022-11-29 19:57:04+0900', tz='Asia/Tokyo'),\n",
       " Timestamp('2022-11-20 21:57:06+0900', tz='Asia/Tokyo'))"
      ]
     },
     "execution_count": 3,
     "metadata": {},
     "output_type": "execute_result"
    }
   ],
   "source": [
    "df.index[0], df.index[-1]"
   ]
  },
  {
   "cell_type": "markdown",
   "id": "213bad33-aa1c-45fb-9ec4-be603311dfd4",
   "metadata": {},
   "source": [
    "start = \"2022-11-21T00:00+09:00\"\n",
    "end = \"2022-11-22T23:59+09:00\"\n",
    "timespan = \"21-22\"\n",
    "start = pd.to_datetime(start)\n",
    "end = pd.to_datetime(end)\n",
    "DF = df[(start <= df.index) & (df.index <= end)]\n",
    "DF.shape"
   ]
  },
  {
   "cell_type": "code",
   "execution_count": 4,
   "id": "8d085fd9-5470-4453-9114-401c0f2c8c77",
   "metadata": {},
   "outputs": [
    {
     "data": {
      "text/plain": [
       "(2841, 4)"
      ]
     },
     "execution_count": 4,
     "metadata": {},
     "output_type": "execute_result"
    }
   ],
   "source": [
    "DF = df.copy()\n",
    "DF.shape"
   ]
  },
  {
   "cell_type": "code",
   "execution_count": 5,
   "id": "9bc5acab-fd63-4ad1-81c9-30d2911f6185",
   "metadata": {},
   "outputs": [
    {
     "name": "stdout",
     "output_type": "stream",
     "text": [
      "tau = 855\n"
     ]
    }
   ],
   "source": [
    "#tau, snapshots = tb.get_snapshots_closed_intervals(DF, 'hours=1')\n",
    "tau, snapshots = tb.get_snapshots_closed_intervals(DF, 'minutes=15')\n",
    "print(f\"tau = {tau}\")"
   ]
  },
  {
   "cell_type": "code",
   "execution_count": 6,
   "id": "95189199-c4ea-461a-8d25-9f9be8e95008",
   "metadata": {},
   "outputs": [],
   "source": [
    "N, L = tb.evolution_of_network(df,tau, snapshots)"
   ]
  },
  {
   "cell_type": "code",
   "execution_count": 7,
   "id": "6fefa865-aa3c-4435-8c4a-b4c98ca2a20f",
   "metadata": {},
   "outputs": [],
   "source": [
    "# Calculate average degree <k>\n",
    "k_braket = []\n",
    "for n, l in zip(N, L):\n",
    "    k_braket.append(2*l / n)"
   ]
  },
  {
   "cell_type": "code",
   "execution_count": 8,
   "id": "65976a28-5d50-4374-b5cd-417fb5d0f539",
   "metadata": {},
   "outputs": [
    {
     "data": {
      "text/html": [
       "<div>\n",
       "<style scoped>\n",
       "    .dataframe tbody tr th:only-of-type {\n",
       "        vertical-align: middle;\n",
       "    }\n",
       "\n",
       "    .dataframe tbody tr th {\n",
       "        vertical-align: top;\n",
       "    }\n",
       "\n",
       "    .dataframe thead th {\n",
       "        text-align: right;\n",
       "    }\n",
       "</style>\n",
       "<table border=\"1\" class=\"dataframe\">\n",
       "  <thead>\n",
       "    <tr style=\"text-align: right;\">\n",
       "      <th></th>\n",
       "      <th>tau</th>\n",
       "      <th>N</th>\n",
       "      <th>L</th>\n",
       "      <th>&lt;k&gt;</th>\n",
       "    </tr>\n",
       "  </thead>\n",
       "  <tbody>\n",
       "    <tr>\n",
       "      <th>0</th>\n",
       "      <td>1</td>\n",
       "      <td>188</td>\n",
       "      <td>2385</td>\n",
       "      <td>25.372340</td>\n",
       "    </tr>\n",
       "    <tr>\n",
       "      <th>1</th>\n",
       "      <td>2</td>\n",
       "      <td>255</td>\n",
       "      <td>3153</td>\n",
       "      <td>24.729412</td>\n",
       "    </tr>\n",
       "    <tr>\n",
       "      <th>2</th>\n",
       "      <td>3</td>\n",
       "      <td>327</td>\n",
       "      <td>4045</td>\n",
       "      <td>24.740061</td>\n",
       "    </tr>\n",
       "    <tr>\n",
       "      <th>3</th>\n",
       "      <td>4</td>\n",
       "      <td>383</td>\n",
       "      <td>4449</td>\n",
       "      <td>23.232376</td>\n",
       "    </tr>\n",
       "    <tr>\n",
       "      <th>4</th>\n",
       "      <td>5</td>\n",
       "      <td>437</td>\n",
       "      <td>4985</td>\n",
       "      <td>22.814645</td>\n",
       "    </tr>\n",
       "  </tbody>\n",
       "</table>\n",
       "</div>"
      ],
      "text/plain": [
       "   tau    N     L        <k>\n",
       "0    1  188  2385  25.372340\n",
       "1    2  255  3153  24.729412\n",
       "2    3  327  4045  24.740061\n",
       "3    4  383  4449  23.232376\n",
       "4    5  437  4985  22.814645"
      ]
     },
     "execution_count": 8,
     "metadata": {},
     "output_type": "execute_result"
    }
   ],
   "source": [
    "df = pd.DataFrame({\"tau\": np.arange(1, tau+1), \"N\": N, \"L\": L, \"<k>\": k_braket})\n",
    "df.to_pickle(f'../data/time_evolution/{tag}/time-evolution_{timespan}_{tau}.pkl')\n",
    "df.head()"
   ]
  },
  {
   "cell_type": "code",
   "execution_count": 9,
   "id": "31d6023c-6b01-442d-92a4-815b77b26305",
   "metadata": {},
   "outputs": [
    {
     "name": "stdout",
     "output_type": "stream",
     "text": [
      "../data/figure/time_evolution/time-evolution_shinkaimakoto_21-29_855.pdf\n"
     ]
    },
    {
     "data": {
      "image/png": "[encoded data removed]",
      "text/plain": [
       "<Figure size 640x480 with 2 Axes>"
      ]
     },
     "metadata": {},
     "output_type": "display_data"
    }
   ],
   "source": [
    "fname = f\"../data/figure/time_evolution/time-evolution_{tag}_{timespan}_{tau}.pdf\"\n",
    "print(fname)\n",
    "tb.plot_time_evolution(df, ncolor=\"#FF7A72\", lcolor=\"#69B3A2\", fname=fname)"
   ]
  }
 ],
 "metadata": {
  "kernelspec": {
   "display_name": "Python 3 (ipykernel)",
   "language": "python",
   "name": "python3"
  },
  "language_info": {
   "codemirror_mode": {
    "name": "ipython",
    "version": 3
   },
   "file_extension": ".py",
   "mimetype": "text/x-python",
   "name": "python",
   "nbconvert_exporter": "python",
   "pygments_lexer": "ipython3",
   "version": "3.10.0"
  },
  "vscode": {
   "interpreter": {
    "hash": "dda1c080d881ff594d995f106008b7b4867f02a791aada0a67430868a128f4a2"
   }
  }
 },
 "nbformat": 4,
 "nbformat_minor": 5
}
